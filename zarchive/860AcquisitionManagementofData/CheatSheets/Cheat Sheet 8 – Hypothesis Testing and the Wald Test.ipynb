{
 "cells": [
  {
   "cell_type": "markdown",
   "metadata": {},
   "source": [
    "Hypothesis testing is one of the most common applications in statistical analysis.  We construct hypotheses in attempt to provide evidence in order to justify an action or change a belief.  We do this by forming an opinion we are prepared to believe in the absence of data and attempt to find evidence that would support changing that opinion.  \n",
    "\n",
    "For example, we might consider launching a new product, but we would only do so if there were sufficient demand.  We would assume there was not sufficient demand and then look for evidence that there was.  If we found sufficient evidence, we would conclude that it was worth launching the new product; if we did not, we would conclude that there was not sufficient evidence to justify launching the new product.  \n",
    "\n",
    "**Hypothesis tests can be simple or complicated; they can have multiple simultaneous components.  Python makes it simple to run either type!**"
   ]
  },
  {
   "cell_type": "markdown",
   "metadata": {},
   "source": [
    "# Import data and run regression\n",
    "\n",
    "The data can be found in the structural change data tab in the Cheat_Sheet_Hypothesis_Testing_V1_0 spreadsheet."
   ]
  },
  {
   "cell_type": "code",
   "execution_count": 14,
   "metadata": {},
   "outputs": [
    {
     "name": "stdout",
     "output_type": "stream",
     "text": [
      "/Users/anthonyramelo/Library/CloudStorage/OneDrive-Queen'sUniversity/860Acquisition and Management of Data/Misc/Cheat_Sheet_Hypothesis_Testing_V1_0.xlsx\n"
     ]
    },
    {
     "data": {
      "text/html": [
       "<table class=\"simpletable\">\n",
       "<caption>OLS Regression Results</caption>\n",
       "<tr>\n",
       "  <th>Dep. Variable:</th>            <td>Y</td>        <th>  R-squared:         </th> <td>   0.867</td>\n",
       "</tr>\n",
       "<tr>\n",
       "  <th>Model:</th>                   <td>OLS</td>       <th>  Adj. R-squared:    </th> <td>   0.863</td>\n",
       "</tr>\n",
       "<tr>\n",
       "  <th>Method:</th>             <td>Least Squares</td>  <th>  F-statistic:       </th> <td>   251.9</td>\n",
       "</tr>\n",
       "<tr>\n",
       "  <th>Date:</th>             <td>Wed, 10 Jul 2024</td> <th>  Prob (F-statistic):</th> <td>8.52e-83</td>\n",
       "</tr>\n",
       "<tr>\n",
       "  <th>Time:</th>                 <td>17:59:23</td>     <th>  Log-Likelihood:    </th> <td> -1029.1</td>\n",
       "</tr>\n",
       "<tr>\n",
       "  <th>No. Observations:</th>      <td>   200</td>      <th>  AIC:               </th> <td>   2070.</td>\n",
       "</tr>\n",
       "<tr>\n",
       "  <th>Df Residuals:</th>          <td>   194</td>      <th>  BIC:               </th> <td>   2090.</td>\n",
       "</tr>\n",
       "<tr>\n",
       "  <th>Df Model:</th>              <td>     5</td>      <th>                     </th>     <td> </td>   \n",
       "</tr>\n",
       "<tr>\n",
       "  <th>Covariance Type:</th>      <td>nonrobust</td>    <th>                     </th>     <td> </td>   \n",
       "</tr>\n",
       "</table>\n",
       "<table class=\"simpletable\">\n",
       "<tr>\n",
       "      <td></td>         <th>coef</th>     <th>std err</th>      <th>t</th>      <th>P>|t|</th>  <th>[0.025</th>    <th>0.975]</th>  \n",
       "</tr>\n",
       "<tr>\n",
       "  <th>Intercept</th> <td>  114.4941</td> <td>   14.438</td> <td>    7.930</td> <td> 0.000</td> <td>   86.019</td> <td>  142.969</td>\n",
       "</tr>\n",
       "<tr>\n",
       "  <th>X1</th>        <td>    9.6945</td> <td>    5.990</td> <td>    1.619</td> <td> 0.107</td> <td>   -2.118</td> <td>   21.507</td>\n",
       "</tr>\n",
       "<tr>\n",
       "  <th>X2</th>        <td>    0.0037</td> <td>    0.000</td> <td>    8.059</td> <td> 0.000</td> <td>    0.003</td> <td>    0.005</td>\n",
       "</tr>\n",
       "<tr>\n",
       "  <th>X3</th>        <td>    0.0224</td> <td>    0.011</td> <td>    2.102</td> <td> 0.037</td> <td>    0.001</td> <td>    0.043</td>\n",
       "</tr>\n",
       "<tr>\n",
       "  <th>X4</th>        <td>    0.1051</td> <td>    0.003</td> <td>   33.691</td> <td> 0.000</td> <td>    0.099</td> <td>    0.111</td>\n",
       "</tr>\n",
       "<tr>\n",
       "  <th>X5</th>        <td>   -9.9705</td> <td>    6.454</td> <td>   -1.545</td> <td> 0.124</td> <td>  -22.699</td> <td>    2.758</td>\n",
       "</tr>\n",
       "</table>\n",
       "<table class=\"simpletable\">\n",
       "<tr>\n",
       "  <th>Omnibus:</th>       <td> 4.399</td> <th>  Durbin-Watson:     </th> <td>   1.280</td>\n",
       "</tr>\n",
       "<tr>\n",
       "  <th>Prob(Omnibus):</th> <td> 0.111</td> <th>  Jarque-Bera (JB):  </th> <td>   3.228</td>\n",
       "</tr>\n",
       "<tr>\n",
       "  <th>Skew:</th>          <td> 0.171</td> <th>  Prob(JB):          </th> <td>   0.199</td>\n",
       "</tr>\n",
       "<tr>\n",
       "  <th>Kurtosis:</th>      <td> 2.480</td> <th>  Cond. No.          </th> <td>6.33e+04</td>\n",
       "</tr>\n",
       "</table><br/><br/>Notes:<br/>[1] Standard Errors assume that the covariance matrix of the errors is correctly specified.<br/>[2] The condition number is large, 6.33e+04. This might indicate that there are<br/>strong multicollinearity or other numerical problems."
      ],
      "text/latex": [
       "\\begin{center}\n",
       "\\begin{tabular}{lclc}\n",
       "\\toprule\n",
       "\\textbf{Dep. Variable:}    &        Y         & \\textbf{  R-squared:         } &     0.867   \\\\\n",
       "\\textbf{Model:}            &       OLS        & \\textbf{  Adj. R-squared:    } &     0.863   \\\\\n",
       "\\textbf{Method:}           &  Least Squares   & \\textbf{  F-statistic:       } &     251.9   \\\\\n",
       "\\textbf{Date:}             & Wed, 10 Jul 2024 & \\textbf{  Prob (F-statistic):} &  8.52e-83   \\\\\n",
       "\\textbf{Time:}             &     17:59:23     & \\textbf{  Log-Likelihood:    } &   -1029.1   \\\\\n",
       "\\textbf{No. Observations:} &         200      & \\textbf{  AIC:               } &     2070.   \\\\\n",
       "\\textbf{Df Residuals:}     &         194      & \\textbf{  BIC:               } &     2090.   \\\\\n",
       "\\textbf{Df Model:}         &           5      & \\textbf{                     } &             \\\\\n",
       "\\textbf{Covariance Type:}  &    nonrobust     & \\textbf{                     } &             \\\\\n",
       "\\bottomrule\n",
       "\\end{tabular}\n",
       "\\begin{tabular}{lcccccc}\n",
       "                   & \\textbf{coef} & \\textbf{std err} & \\textbf{t} & \\textbf{P$> |$t$|$} & \\textbf{[0.025} & \\textbf{0.975]}  \\\\\n",
       "\\midrule\n",
       "\\textbf{Intercept} &     114.4941  &       14.438     &     7.930  &         0.000        &       86.019    &      142.969     \\\\\n",
       "\\textbf{X1}        &       9.6945  &        5.990     &     1.619  &         0.107        &       -2.118    &       21.507     \\\\\n",
       "\\textbf{X2}        &       0.0037  &        0.000     &     8.059  &         0.000        &        0.003    &        0.005     \\\\\n",
       "\\textbf{X3}        &       0.0224  &        0.011     &     2.102  &         0.037        &        0.001    &        0.043     \\\\\n",
       "\\textbf{X4}        &       0.1051  &        0.003     &    33.691  &         0.000        &        0.099    &        0.111     \\\\\n",
       "\\textbf{X5}        &      -9.9705  &        6.454     &    -1.545  &         0.124        &      -22.699    &        2.758     \\\\\n",
       "\\bottomrule\n",
       "\\end{tabular}\n",
       "\\begin{tabular}{lclc}\n",
       "\\textbf{Omnibus:}       &  4.399 & \\textbf{  Durbin-Watson:     } &    1.280  \\\\\n",
       "\\textbf{Prob(Omnibus):} &  0.111 & \\textbf{  Jarque-Bera (JB):  } &    3.228  \\\\\n",
       "\\textbf{Skew:}          &  0.171 & \\textbf{  Prob(JB):          } &    0.199  \\\\\n",
       "\\textbf{Kurtosis:}      &  2.480 & \\textbf{  Cond. No.          } & 6.33e+04  \\\\\n",
       "\\bottomrule\n",
       "\\end{tabular}\n",
       "%\\caption{OLS Regression Results}\n",
       "\\end{center}\n",
       "\n",
       "Notes: \\newline\n",
       " [1] Standard Errors assume that the covariance matrix of the errors is correctly specified. \\newline\n",
       " [2] The condition number is large, 6.33e+04. This might indicate that there are \\newline\n",
       " strong multicollinearity or other numerical problems."
      ],
      "text/plain": [
       "<class 'statsmodels.iolib.summary.Summary'>\n",
       "\"\"\"\n",
       "                            OLS Regression Results                            \n",
       "==============================================================================\n",
       "Dep. Variable:                      Y   R-squared:                       0.867\n",
       "Model:                            OLS   Adj. R-squared:                  0.863\n",
       "Method:                 Least Squares   F-statistic:                     251.9\n",
       "Date:                Wed, 10 Jul 2024   Prob (F-statistic):           8.52e-83\n",
       "Time:                        17:59:23   Log-Likelihood:                -1029.1\n",
       "No. Observations:                 200   AIC:                             2070.\n",
       "Df Residuals:                     194   BIC:                             2090.\n",
       "Df Model:                           5                                         \n",
       "Covariance Type:            nonrobust                                         \n",
       "==============================================================================\n",
       "                 coef    std err          t      P>|t|      [0.025      0.975]\n",
       "------------------------------------------------------------------------------\n",
       "Intercept    114.4941     14.438      7.930      0.000      86.019     142.969\n",
       "X1             9.6945      5.990      1.619      0.107      -2.118      21.507\n",
       "X2             0.0037      0.000      8.059      0.000       0.003       0.005\n",
       "X3             0.0224      0.011      2.102      0.037       0.001       0.043\n",
       "X4             0.1051      0.003     33.691      0.000       0.099       0.111\n",
       "X5            -9.9705      6.454     -1.545      0.124     -22.699       2.758\n",
       "==============================================================================\n",
       "Omnibus:                        4.399   Durbin-Watson:                   1.280\n",
       "Prob(Omnibus):                  0.111   Jarque-Bera (JB):                3.228\n",
       "Skew:                           0.171   Prob(JB):                        0.199\n",
       "Kurtosis:                       2.480   Cond. No.                     6.33e+04\n",
       "==============================================================================\n",
       "\n",
       "Notes:\n",
       "[1] Standard Errors assume that the covariance matrix of the errors is correctly specified.\n",
       "[2] The condition number is large, 6.33e+04. This might indicate that there are\n",
       "strong multicollinearity or other numerical problems.\n",
       "\"\"\""
      ]
     },
     "execution_count": 14,
     "metadata": {},
     "output_type": "execute_result"
    }
   ],
   "source": [
    "#Import the required libraries\n",
    "import pandas as pd\n",
    "import os.path as osp\n",
    "import statsmodels.api as sm\n",
    "from statsmodels.formula.api import ols\n",
    "import os\n",
    "\n",
    "#Build the path for the data file\n",
    "db_dir = os.getcwd()\n",
    "data_path = db_dir+r'/Cheat_Sheet_Hypothesis_Testing_V1_0.xlsx'\n",
    "print(data_path)\n",
    "#Use the read_excel function to pull data from the Hypothesis Testing Sheet\n",
    "data = pd.read_excel(data_path,sheet_name=0,index_col='Obs')\n",
    "\n",
    "#Build our model using statsmodels\n",
    "model = ols('Y ~ X1 + X2 + X3 + X4 + X5',data).fit()\n",
    "model.summary()"
   ]
  },
  {
   "cell_type": "markdown",
   "metadata": {},
   "source": [
    "# Performing Hypothesis Testing using the Wald Test"
   ]
  },
  {
   "cell_type": "markdown",
   "metadata": {},
   "source": [
    "Using the following arguments, we will test and see whether $X_1$, $X_2$, and $X_3$ have a coefficient of zero in front of them. In other words, we are testing the correllation."
   ]
  },
  {
   "cell_type": "code",
   "execution_count": 15,
   "metadata": {},
   "outputs": [],
   "source": [
    "'''\n",
    "We put our null hypothesis in the following string format. Here we are going\n",
    "to test whether X1, X2, and X3 have a 0 coefficient in front of them.\n",
    "'''\n",
    "hypothesis = '(X1=0, X2=0, X3=0)'"
   ]
  },
  {
   "cell_type": "code",
   "execution_count": 16,
   "metadata": {},
   "outputs": [
    {
     "name": "stdout",
     "output_type": "stream",
     "text": [
      "<F test: F=array([[25.19193307]]), p=8.273060507538756e-14, df_denom=194, df_num=3>\n"
     ]
    },
    {
     "name": "stderr",
     "output_type": "stream",
     "text": [
      "/opt/anaconda3/lib/python3.11/site-packages/statsmodels/base/model.py:1906: FutureWarning: The behavior of wald_test will change after 0.14 to returning scalar test statistic values. To get the future behavior now, set scalar to True. To silence this message while retaining the legacy behavior, set scalar to False.\n",
      "  warnings.warn(\n"
     ]
    }
   ],
   "source": [
    "#Pass the hypothesis to the Wald_Test\n",
    "print(model.wald_test(hypothesis))"
   ]
  },
  {
   "cell_type": "code",
   "execution_count": null,
   "metadata": {},
   "outputs": [],
   "source": []
  },
  {
   "cell_type": "markdown",
   "metadata": {},
   "source": [
    "The p-value above is what we are concerned with the most. You should have gotten a value of 8.27306050734528e-14 (the 'e' here means $\\times 10 \\text{ to the power of}$). For example, 8.27e-14 is $8.27\\times 10^{-14}$ (very small!). If our p-value is less than $0.05$, which it clearly is here, then we **reject the null hypothesis**. This tells us that there is, to great confidence, some correllation between the three parameters and our $Y$ value. Let's try another example where we test the correllation of just $X_1$ and $X_5$."
   ]
  },
  {
   "cell_type": "code",
   "execution_count": 17,
   "metadata": {},
   "outputs": [
    {
     "name": "stdout",
     "output_type": "stream",
     "text": [
      "<F test: F=array([[2.442931]]), p=0.08957531437703686, df_denom=194, df_num=2>\n"
     ]
    }
   ],
   "source": [
    "hypothesis_2 = '(X1=0,X5=0)'\n",
    "print(model.wald_test(hypothesis_2))"
   ]
  },
  {
   "cell_type": "markdown",
   "metadata": {},
   "source": [
    "Here, our p-value is much higher, about $0.09$. This p-value is not less than $0.05$, so in this case, we **do not reject the null hypothesis**. Note, this does not mean that we have confirmed $X_1$ and $X_5$ are not correllated with our $Y$ value, we simply found that there is not enough evidence to suggest that they are."
   ]
  },
  {
   "cell_type": "markdown",
   "metadata": {},
   "source": [
    "# General Notes"
   ]
  },
  {
   "cell_type": "markdown",
   "metadata": {},
   "source": [
    "- All of these restrictions are tested simultaneously as part of the null hypothesis.\n",
    "- You can test many null hypotheses using the linearHypothesis command.\n",
    "- There are other tests (for heteroskedasticity, specification error, etc.) that cannot be tested using this approach."
   ]
  }
 ],
 "metadata": {
  "kernelspec": {
   "display_name": "Python 3 (ipykernel)",
   "language": "python",
   "name": "python3"
  },
  "language_info": {
   "codemirror_mode": {
    "name": "ipython",
    "version": 3
   },
   "file_extension": ".py",
   "mimetype": "text/x-python",
   "name": "python",
   "nbconvert_exporter": "python",
   "pygments_lexer": "ipython3",
   "version": "3.11.7"
  }
 },
 "nbformat": 4,
 "nbformat_minor": 2
}
