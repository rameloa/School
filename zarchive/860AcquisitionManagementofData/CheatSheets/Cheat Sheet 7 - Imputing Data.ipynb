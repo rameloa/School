{
 "cells": [
  {
   "cell_type": "markdown",
   "metadata": {},
   "source": [
    "This cheat sheet is intended to show you how to do a basic imputation using the Cheat_Sheet_Missing_Data_V2_0 dataset.  \n",
    "Missing observations are a common problem with data sets.  As we discussed in class, there are a number of ways to deal with this theoretically, depending on the process that gives rise to missing observations.\n",
    "\n",
    "Thankfully, statsmodel has a useful function which we can use to perform Multiple Imputation by Chained Equations (MICE). "
   ]
  },
  {
   "cell_type": "markdown",
   "metadata": {},
   "source": [
    "# Importing Our Data and Running a Regression"
   ]
  },
  {
   "cell_type": "code",
   "execution_count": null,
   "metadata": {},
   "outputs": [],
   "source": [
    "#First we import our data from the appropriate file\n",
    "import pandas as pd\n",
    "import os.path as osp\n",
    "import numpy as np\n",
    "data_path = osp.join(osp.curdir,'Data','Cheat_Sheet_Missing_Data_V2_0.xlsx')\n",
    "data = pd.read_excel(data_path,sheet_name=0)\n",
    "# Drop Obs column\n",
    "data = data.drop(columns = 'Obs')\n",
    "#Note that Family_Income has only 977 values where all the rest have 1000\n",
    "data.info()"
   ]
  },
  {
   "cell_type": "code",
   "execution_count": null,
   "metadata": {},
   "outputs": [],
   "source": [
    "# View the null Family_Income rows\n",
    "data[(pd.isnull(data.Family_Income))]"
   ]
  },
  {
   "cell_type": "code",
   "execution_count": null,
   "metadata": {},
   "outputs": [],
   "source": [
    "# We will run a regression with all fields except Family_Size\n",
    "frmla = 'Grocery_Bill ~ N_Adults + Family_Income + N_Vehicles + ' + \\\n",
    "    'Distance_to_Store + Vegetarian + N_Children + Family_Pet'"
   ]
  },
  {
   "cell_type": "code",
   "execution_count": null,
   "metadata": {},
   "outputs": [],
   "source": [
    "#Train and view our model\n",
    "from statsmodels.formula.api import ols\n",
    "results = ols(frmla,data).fit()\n",
    "results.summary()"
   ]
  },
  {
   "cell_type": "markdown",
   "metadata": {},
   "source": [
    "# Performing MICE\n",
    "\n",
    "*Depending on your version of Anaconda, you may get a notification about a function in MICE being depreciated. This means that that function may not work in a future Python update.*"
   ]
  },
  {
   "cell_type": "markdown",
   "metadata": {},
   "source": [
    "The following snippet of code performs the imputation on the dataset."
   ]
  },
  {
   "cell_type": "code",
   "execution_count": null,
   "metadata": {},
   "outputs": [],
   "source": [
    "#Import the required libraries\n",
    "import statsmodels.imputation.mice as mice\n",
    "import statsmodels.regression.linear_model as sm\n",
    "\n",
    "#Impute the data set with MICE Data\n",
    "imp = mice.MICEData(data)\n",
    "imputed_data = imp.next_sample()\n",
    "\n",
    "#Merge the imputed data with the blank data\n",
    "merge_data = pd.merge(imputed_data,data,left_index=True,right_index=True)\n",
    "merge_data = merge_data[['Family_Income_x','Family_Income_y']]\n",
    "#Family_Income_x are the imputed values\n",
    "merge_data[(pd.isnull(merge_data.Family_Income_y))]"
   ]
  },
  {
   "cell_type": "markdown",
   "metadata": {},
   "source": [
    "Selecting a single imputation is not the best way to use imputed data for predictive modelling. Instead, you want to use all the imputed data sets and pool the results. To do this, you need to run a regression on all 5 imputed data sets, and then pool the regression results. This can be done by setting the $\\text{n_imputations}$ argument."
   ]
  },
  {
   "cell_type": "code",
   "execution_count": null,
   "metadata": {},
   "outputs": [],
   "source": [
    "mice = mice.MICE(frmla, sm.OLS, imp)\n",
    "results = mice.fit(n_imputations=5)\n",
    "print(results.summary())"
   ]
  },
  {
   "cell_type": "markdown",
   "metadata": {},
   "source": [
    "## Interpreting Results\n",
    "\n",
    "You can interpret these regression results as you normally would. \n",
    "If you are interested in learning more about MICE and multiple imputation, this is an excellent paper:\n",
    "https://www.jstatsoft.org/article/view/v045i03\n"
   ]
  },
  {
   "cell_type": "markdown",
   "metadata": {},
   "source": [
    "## Summary\n",
    "\n",
    "Here is how an imputation works, step by step:\n",
    "\n",
    "  1) We set the number of imputations we want. If we set m = 5, mice creates 5 exact copies of the original dataset\n",
    "  \n",
    "  2) Then, in the background, a regression model is built to predict the missing data (in this case, Family Income) using all the other variables available\n",
    "  \n",
    "  3) For each of the five datasets, we use the model just created to predict the missing values. In each of the datasets, the error term of the regression is randomized. This means that each of the 5 data sets will have different imputed values!\n",
    "  \n",
    "  4) We then run statistical tests on all of the 5 data sets, and pool the results together for a more robust answer\n"
   ]
  },
  {
   "cell_type": "markdown",
   "metadata": {},
   "source": [
    "## Little's Test"
   ]
  },
  {
   "cell_type": "markdown",
   "metadata": {},
   "source": [
    "There is a formal test for determining whether data is MAR or MCAR – Little’s test. You can use the test by installing the impyute package."
   ]
  },
  {
   "cell_type": "code",
   "execution_count": null,
   "metadata": {},
   "outputs": [],
   "source": []
  }
 ],
 "metadata": {
  "kernelspec": {
   "display_name": "Python 3 (ipykernel)",
   "language": "python",
   "name": "python3"
  },
  "language_info": {
   "codemirror_mode": {
    "name": "ipython",
    "version": 3
   },
   "file_extension": ".py",
   "mimetype": "text/x-python",
   "name": "python",
   "nbconvert_exporter": "python",
   "pygments_lexer": "ipython3",
   "version": "3.8.15"
  }
 },
 "nbformat": 4,
 "nbformat_minor": 2
}
