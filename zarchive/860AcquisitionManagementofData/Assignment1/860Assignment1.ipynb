{
 "cells": [
  {
   "cell_type": "markdown",
   "metadata": {},
   "source": []
  },
  {
   "cell_type": "markdown",
   "metadata": {},
   "source": [
    "Team Gordon\n",
    "\n",
    "Student Name\tStudent Number\n",
    " Alisha Sahota\t20497348\n",
    " Anthony Ramelo\t20499391\n",
    " Chris Wu\t10182394\n",
    " Elizabeth Zhang\t20161231\n",
    " Emily Zhao\t10096273\n",
    " Sam Hossain\t20466500\n"
   ]
  },
  {
   "cell_type": "code",
   "execution_count": 41,
   "metadata": {},
   "outputs": [],
   "source": [
    "#Import required libraries\n",
    "import pandas as pd\n",
    "import os\n",
    "import matplotlib.pyplot as plt\n",
    "import warnings\n",
    "warnings.filterwarnings('ignore')\n",
    "from sqlalchemy import create_engine\n",
    "engine = create_engine('sqlite:///:memory:')\n"
   ]
  },
  {
   "cell_type": "code",
   "execution_count": 42,
   "metadata": {},
   "outputs": [],
   "source": [
    "#Importing Data\n",
    "db_dir = os.getcwd()\n",
    "db_dir = db_dir + '/MMA860_Assignment1_Data_vf.xlsx'\n",
    "dfWindfarmTurbineLocations = pd.read_excel(db_dir, sheet_name='Windfarm Turbine Locations')\n",
    "dfTurbineSpecifications = pd.read_excel(db_dir, sheet_name='Turbine Specifications')\n",
    "dfIslandAirportWeather = pd.read_excel(db_dir, sheet_name='Island Airport Weather',skiprows=16)\n",
    "dfProductSales = pd.read_excel(db_dir, sheet_name='Product_Sales')\n",
    "dfCollinearity = pd.read_excel(db_dir, sheet_name='Collinearity')"
   ]
  },
  {
   "cell_type": "code",
   "execution_count": 43,
   "metadata": {},
   "outputs": [
    {
     "data": {
      "text/plain": [
       "0    1.236659\n",
       "1    1.232853\n",
       "2    1.230567\n",
       "3    1.247307\n",
       "4    1.253480\n",
       "Name: Air density, dtype: float64"
      ]
     },
     "execution_count": 43,
     "metadata": {},
     "output_type": "execute_result"
    }
   ],
   "source": [
    "#question 1a\n",
    "# Since our weather data doesn’t include “air density”, you will need to calculate it \n",
    "# for each hour of data using the following formula and save it to a new variable and print out the first 5 records. 2 marks\n",
    "# Air density (kg/m^3)=([Stn Press (kPa)]  ×1000)/(287.05×([Temp (°C)]+273.15))\n",
    "\n",
    "dfIslandAirportWeather['Air density'] = (dfIslandAirportWeather['Stn Press (kPa)']*1000)/(287.05*(dfIslandAirportWeather['Temp (°C)']+273.15))\n",
    "dfIslandAirportWeather['Air density'].head(5)"
   ]
  },
  {
   "cell_type": "code",
   "execution_count": 44,
   "metadata": {},
   "outputs": [
    {
     "data": {
      "text/html": [
       "<div>\n",
       "<style scoped>\n",
       "    .dataframe tbody tr th:only-of-type {\n",
       "        vertical-align: middle;\n",
       "    }\n",
       "\n",
       "    .dataframe tbody tr th {\n",
       "        vertical-align: top;\n",
       "    }\n",
       "\n",
       "    .dataframe thead th {\n",
       "        text-align: right;\n",
       "    }\n",
       "</style>\n",
       "<table border=\"1\" class=\"dataframe\">\n",
       "  <thead>\n",
       "    <tr style=\"text-align: right;\">\n",
       "      <th></th>\n",
       "      <th>Wind Spd (km/h)</th>\n",
       "      <th>Wind Spd (m/s)</th>\n",
       "    </tr>\n",
       "  </thead>\n",
       "  <tbody>\n",
       "    <tr>\n",
       "      <th>0</th>\n",
       "      <td>11</td>\n",
       "      <td>3.055558</td>\n",
       "    </tr>\n",
       "    <tr>\n",
       "      <th>1</th>\n",
       "      <td>4</td>\n",
       "      <td>1.111112</td>\n",
       "    </tr>\n",
       "    <tr>\n",
       "      <th>2</th>\n",
       "      <td>28</td>\n",
       "      <td>7.777784</td>\n",
       "    </tr>\n",
       "    <tr>\n",
       "      <th>3</th>\n",
       "      <td>34</td>\n",
       "      <td>9.444452</td>\n",
       "    </tr>\n",
       "    <tr>\n",
       "      <th>4</th>\n",
       "      <td>28</td>\n",
       "      <td>7.777784</td>\n",
       "    </tr>\n",
       "  </tbody>\n",
       "</table>\n",
       "</div>"
      ],
      "text/plain": [
       "   Wind Spd (km/h)  Wind Spd (m/s)\n",
       "0               11        3.055558\n",
       "1                4        1.111112\n",
       "2               28        7.777784\n",
       "3               34        9.444452\n",
       "4               28        7.777784"
      ]
     },
     "execution_count": 44,
     "metadata": {},
     "output_type": "execute_result"
    }
   ],
   "source": [
    "# 1b.\tWindspeed [Wind Spd (km/h)] will need to be converted from km/h to meters per second for \n",
    "#       each hour of data (1 km/h ≈ 0.277778 m/s). Save this to a new variable and print out the \n",
    "#       first 5 results. Include entries even if no power was generated. 2 marks\n",
    "\n",
    "dfIslandAirportWeather['Wind Spd (m/s)'] = (dfIslandAirportWeather['Wind Spd (km/h)']*0.277778)\n",
    "#Quality Check\n",
    "selected_rows = dfIslandAirportWeather[['Wind Spd (km/h)','Wind Spd (m/s)']]\n",
    "selected_rows.head(5)\n"
   ]
  },
  {
   "cell_type": "code",
   "execution_count": 45,
   "metadata": {},
   "outputs": [
    {
     "data": {
      "text/plain": [
       "0          0\n",
       "1          0\n",
       "2    1344892\n",
       "3    2440721\n",
       "4    1369934\n",
       "Name: Power (Watts), dtype: int64"
      ]
     },
     "execution_count": 45,
     "metadata": {},
     "output_type": "execute_result"
    }
   ],
   "source": [
    "# 1c.\tTo calculate the power production at each turbine, use the following formula, keeping the following points in mind, save it to a new variable \n",
    "#       and print out the first 5 records. 3 marks\n",
    "#       power (watts)=[Air density]× [Turbine swept area]  ×0.5[Wind speed (m/s)]^3  ×[Maximum power coefficient]\n",
    "            # Points:\n",
    "            # i.\tIf the windspeed is above or below the minimum and maximum cutoff speeds, the wind turbines will not operate\n",
    "            # ii.\tEach turbine cannot produce more than [Turbine nominal power] at any given point in time. Note that [Turbine nominal power] is \n",
    "            #       given in Megawatts, where your power calculation is in watts (1 MW = 1,000,000 watts)\n",
    "\n",
    "import numpy as np\n",
    "\n",
    "# Extracting values\n",
    "TurbineSweptArea = dfTurbineSpecifications[dfTurbineSpecifications['Field'] == 'Turbine swept area']['Values'].values[0]\n",
    "MinCutoffSpeed = dfTurbineSpecifications[dfTurbineSpecifications['Field'] == 'Cut-in windspeed (m/s)']['Values'].values[0]\n",
    "MaxCutoffSpeed = dfTurbineSpecifications[dfTurbineSpecifications['Field'] == 'Cut-out windspeed (m/s)']['Values'].values[0]\n",
    "Maximumpowercoefficient = dfTurbineSpecifications[dfTurbineSpecifications['Field'] == 'Maximum power coefficient']['Values'].values[0]\n",
    "Turbinenominalpower = dfTurbineSpecifications[dfTurbineSpecifications['Field'] == 'Turbine nominal power']['Values'].values[0] * 1000000  # Converting MW to Watts\n",
    "\n",
    "# Calculate PowerProduction\n",
    "dfIslandAirportWeather['PowerProduction'] = np.where(\n",
    "    (dfIslandAirportWeather['Wind Spd (m/s)'] >= MinCutoffSpeed) & \n",
    "    (dfIslandAirportWeather['Wind Spd (m/s)'] <= MaxCutoffSpeed),\n",
    "    dfIslandAirportWeather['Air density'] * TurbineSweptArea * \n",
    "    (dfIslandAirportWeather['Wind Spd (m/s)']**3) * Maximumpowercoefficient * 0.5,\n",
    "    0\n",
    ")\n",
    "\n",
    "# Calculate Power (Watts)\n",
    "dfIslandAirportWeather['Power (Watts)'] = np.where(\n",
    "    dfIslandAirportWeather['PowerProduction'] > Turbinenominalpower,\n",
    "    Turbinenominalpower,\n",
    "    dfIslandAirportWeather['PowerProduction']\n",
    ")\n",
    "\n",
    "# Convert Power (Watts) to Power (MW)\n",
    "dfIslandAirportWeather['Power (MW)'] = dfIslandAirportWeather['Power (Watts)'] / 1000000\n",
    "dfIslandAirportWeather.to_csv('newdfIslandAirportWeather.csv')\n",
    "dfIslandAirportWeather['Power (Watts)'].astype(int).head(5)"
   ]
  },
  {
   "cell_type": "code",
   "execution_count": 46,
   "metadata": {},
   "outputs": [
    {
     "name": "stdout",
     "output_type": "stream",
     "text": [
      "Amount of electricity produced for the entire windfarm in January in Megawatts:  43077.82320367192\n"
     ]
    }
   ],
   "source": [
    "# 1d. What is the total amount of electricity produced for the entire windfarm in January in Megawatts? \n",
    "# Hint: it’s the sum of all power produced part c, above, converted to Megawatts. 1 mark\n",
    "\n",
    "total_power_mw = dfIslandAirportWeather['Power (MW)'].sum()\n",
    "print('Amount of electricity produced for the entire windfarm in January in Megawatts: ', total_power_mw * 49) #for the turbines)"
   ]
  },
  {
   "cell_type": "code",
   "execution_count": 47,
   "metadata": {},
   "outputs": [
    {
     "data": {
      "image/png": "[encoded data removed]",
      "text/plain": [
       "<Figure size 1000x600 with 1 Axes>"
      ]
     },
     "metadata": {},
     "output_type": "display_data"
    }
   ],
   "source": [
    "# 1e.\tCreate a visualization using the best practices we discussed showing power produced per day at the windfarm in January. 2 marks\n",
    "dfIslandAirportWeather['Formatted Date'] = pd.to_datetime(dfIslandAirportWeather['Month'].astype(str) + '-' + dfIslandAirportWeather['Day'].astype(str), format='%m-%d').dt.strftime('%b %d')\n",
    "plt.figure(figsize=(10, 6))\n",
    "plt.bar(x=dfIslandAirportWeather['Formatted Date'], height=dfIslandAirportWeather['PowerProduction']//1000000)\n",
    "plt.title('Daily Power Production in January (MW)')\n",
    "plt.xlabel('Formatted Date')\n",
    "plt.ylabel('Power (MW)')\n",
    "plt.xticks(rotation=100)\n",
    "plt.tight_layout()\n",
    "\n",
    "\n",
    "# Set the y-axis to start from zero\n",
    "plt.ylim(bottom=0)\n",
    "plt.show()"
   ]
  },
  {
   "cell_type": "markdown",
   "metadata": {},
   "source": [
    "Question 3"
   ]
  },
  {
   "cell_type": "code",
   "execution_count": 48,
   "metadata": {},
   "outputs": [
    {
     "data": {
      "text/html": [
       "<div>\n",
       "<style scoped>\n",
       "    .dataframe tbody tr th:only-of-type {\n",
       "        vertical-align: middle;\n",
       "    }\n",
       "\n",
       "    .dataframe tbody tr th {\n",
       "        vertical-align: top;\n",
       "    }\n",
       "\n",
       "    .dataframe thead th {\n",
       "        text-align: right;\n",
       "    }\n",
       "</style>\n",
       "<table border=\"1\" class=\"dataframe\">\n",
       "  <thead>\n",
       "    <tr style=\"text-align: right;\">\n",
       "      <th></th>\n",
       "      <th>Obs</th>\n",
       "      <th>Product_ID</th>\n",
       "      <th>Sales_2016</th>\n",
       "      <th>Sales_2017</th>\n",
       "      <th>Import</th>\n",
       "      <th>Num_Retailers</th>\n",
       "      <th>Price</th>\n",
       "    </tr>\n",
       "  </thead>\n",
       "  <tbody>\n",
       "    <tr>\n",
       "      <th>0</th>\n",
       "      <td>1</td>\n",
       "      <td>001</td>\n",
       "      <td>1162.91</td>\n",
       "      <td>235.19</td>\n",
       "      <td>1</td>\n",
       "      <td>5</td>\n",
       "      <td>$67.18</td>\n",
       "    </tr>\n",
       "    <tr>\n",
       "      <th>1</th>\n",
       "      <td>2</td>\n",
       "      <td>002</td>\n",
       "      <td>1191.11</td>\n",
       "      <td>944.87</td>\n",
       "      <td>1</td>\n",
       "      <td>3</td>\n",
       "      <td>$54.56</td>\n",
       "    </tr>\n",
       "    <tr>\n",
       "      <th>2</th>\n",
       "      <td>3</td>\n",
       "      <td>003</td>\n",
       "      <td>1214.96</td>\n",
       "      <td>737.06</td>\n",
       "      <td>0</td>\n",
       "      <td>5</td>\n",
       "      <td>$58.85</td>\n",
       "    </tr>\n",
       "    <tr>\n",
       "      <th>3</th>\n",
       "      <td>4</td>\n",
       "      <td>004</td>\n",
       "      <td>1336.07</td>\n",
       "      <td>986.15</td>\n",
       "      <td>0</td>\n",
       "      <td>7</td>\n",
       "      <td>$56.48</td>\n",
       "    </tr>\n",
       "    <tr>\n",
       "      <th>4</th>\n",
       "      <td>5</td>\n",
       "      <td>005</td>\n",
       "      <td>1343.29</td>\n",
       "      <td>871.33</td>\n",
       "      <td>1</td>\n",
       "      <td>7</td>\n",
       "      <td>$58.74</td>\n",
       "    </tr>\n",
       "  </tbody>\n",
       "</table>\n",
       "</div>"
      ],
      "text/plain": [
       "   Obs Product_ID  Sales_2016  Sales_2017  Import  Num_Retailers   Price\n",
       "0    1        001     1162.91      235.19       1              5  $67.18\n",
       "1    2        002     1191.11      944.87       1              3  $54.56\n",
       "2    3        003     1214.96      737.06       0              5  $58.85\n",
       "3    4        004     1336.07      986.15       0              7  $56.48\n",
       "4    5        005     1343.29      871.33       1              7  $58.74"
      ]
     },
     "execution_count": 48,
     "metadata": {},
     "output_type": "execute_result"
    }
   ],
   "source": [
    "# 3a.\tMake sure all variable formats are correct, and that Product_IDs are all of the same length, and a string. 2 marks\n",
    "dfProductSales.dtypes\n",
    "length = dfProductSales['Product_ID'].astype(str).str.len().max()\n",
    "dfProductSales['Product_ID'] = dfProductSales['Product_ID'].astype(str).str.zfill(length)\n",
    "dfProductSales.head(5)\n"
   ]
  },
  {
   "cell_type": "code",
   "execution_count": 49,
   "metadata": {},
   "outputs": [
    {
     "data": {
      "text/plain": [
       "Obs                int64\n",
       "Product_ID        object\n",
       "Sales_2016       float64\n",
       "Sales_2017       float64\n",
       "Import             int64\n",
       "Num_Retailers      int64\n",
       "Price             object\n",
       "dtype: object"
      ]
     },
     "execution_count": 49,
     "metadata": {},
     "output_type": "execute_result"
    }
   ],
   "source": [
    "dfProductSales.dtypes"
   ]
  },
  {
   "cell_type": "code",
   "execution_count": 50,
   "metadata": {},
   "outputs": [
    {
     "name": "stdout",
     "output_type": "stream",
     "text": [
      "\n"
     ]
    },
    {
     "data": {
      "text/html": [
       "<div>\n",
       "<style scoped>\n",
       "    .dataframe tbody tr th:only-of-type {\n",
       "        vertical-align: middle;\n",
       "    }\n",
       "\n",
       "    .dataframe tbody tr th {\n",
       "        vertical-align: top;\n",
       "    }\n",
       "\n",
       "    .dataframe thead th {\n",
       "        text-align: right;\n",
       "    }\n",
       "</style>\n",
       "<table border=\"1\" class=\"dataframe\">\n",
       "  <thead>\n",
       "    <tr style=\"text-align: right;\">\n",
       "      <th></th>\n",
       "      <th>Obs</th>\n",
       "      <th>Product_ID</th>\n",
       "      <th>Sales_2016</th>\n",
       "      <th>Sales_2017</th>\n",
       "      <th>Import</th>\n",
       "      <th>Num_Retailers</th>\n",
       "      <th>Price</th>\n",
       "    </tr>\n",
       "  </thead>\n",
       "  <tbody>\n",
       "    <tr>\n",
       "      <th>0</th>\n",
       "      <td>1</td>\n",
       "      <td>001</td>\n",
       "      <td>1162.91</td>\n",
       "      <td>235.19</td>\n",
       "      <td>1</td>\n",
       "      <td>5</td>\n",
       "      <td>67.18</td>\n",
       "    </tr>\n",
       "    <tr>\n",
       "      <th>1</th>\n",
       "      <td>2</td>\n",
       "      <td>002</td>\n",
       "      <td>1191.11</td>\n",
       "      <td>944.87</td>\n",
       "      <td>1</td>\n",
       "      <td>3</td>\n",
       "      <td>54.56</td>\n",
       "    </tr>\n",
       "    <tr>\n",
       "      <th>2</th>\n",
       "      <td>3</td>\n",
       "      <td>003</td>\n",
       "      <td>1214.96</td>\n",
       "      <td>737.06</td>\n",
       "      <td>0</td>\n",
       "      <td>5</td>\n",
       "      <td>58.85</td>\n",
       "    </tr>\n",
       "    <tr>\n",
       "      <th>3</th>\n",
       "      <td>4</td>\n",
       "      <td>004</td>\n",
       "      <td>1336.07</td>\n",
       "      <td>986.15</td>\n",
       "      <td>0</td>\n",
       "      <td>7</td>\n",
       "      <td>56.48</td>\n",
       "    </tr>\n",
       "    <tr>\n",
       "      <th>4</th>\n",
       "      <td>5</td>\n",
       "      <td>005</td>\n",
       "      <td>1343.29</td>\n",
       "      <td>871.33</td>\n",
       "      <td>1</td>\n",
       "      <td>7</td>\n",
       "      <td>58.74</td>\n",
       "    </tr>\n",
       "    <tr>\n",
       "      <th>...</th>\n",
       "      <td>...</td>\n",
       "      <td>...</td>\n",
       "      <td>...</td>\n",
       "      <td>...</td>\n",
       "      <td>...</td>\n",
       "      <td>...</td>\n",
       "      <td>...</td>\n",
       "    </tr>\n",
       "    <tr>\n",
       "      <th>195</th>\n",
       "      <td>196</td>\n",
       "      <td>196</td>\n",
       "      <td>1334.69</td>\n",
       "      <td>879.47</td>\n",
       "      <td>0</td>\n",
       "      <td>7</td>\n",
       "      <td>58.43</td>\n",
       "    </tr>\n",
       "    <tr>\n",
       "      <th>196</th>\n",
       "      <td>197</td>\n",
       "      <td>197</td>\n",
       "      <td>2035.08</td>\n",
       "      <td>1251.54</td>\n",
       "      <td>0</td>\n",
       "      <td>21</td>\n",
       "      <td>64.51</td>\n",
       "    </tr>\n",
       "    <tr>\n",
       "      <th>197</th>\n",
       "      <td>198</td>\n",
       "      <td>198</td>\n",
       "      <td>1390.20</td>\n",
       "      <td>1327.56</td>\n",
       "      <td>1</td>\n",
       "      <td>6</td>\n",
       "      <td>51.16</td>\n",
       "    </tr>\n",
       "    <tr>\n",
       "      <th>198</th>\n",
       "      <td>199</td>\n",
       "      <td>199</td>\n",
       "      <td>1968.63</td>\n",
       "      <td>2656.05</td>\n",
       "      <td>0</td>\n",
       "      <td>15</td>\n",
       "      <td>37.27</td>\n",
       "    </tr>\n",
       "    <tr>\n",
       "      <th>199</th>\n",
       "      <td>200</td>\n",
       "      <td>200</td>\n",
       "      <td>1357.59</td>\n",
       "      <td>1206.39</td>\n",
       "      <td>1</td>\n",
       "      <td>6</td>\n",
       "      <td>52.80</td>\n",
       "    </tr>\n",
       "  </tbody>\n",
       "</table>\n",
       "<p>200 rows × 7 columns</p>\n",
       "</div>"
      ],
      "text/plain": [
       "     Obs Product_ID  Sales_2016  Sales_2017  Import  Num_Retailers  Price\n",
       "0      1        001     1162.91      235.19       1              5  67.18\n",
       "1      2        002     1191.11      944.87       1              3  54.56\n",
       "2      3        003     1214.96      737.06       0              5  58.85\n",
       "3      4        004     1336.07      986.15       0              7  56.48\n",
       "4      5        005     1343.29      871.33       1              7  58.74\n",
       "..   ...        ...         ...         ...     ...            ...    ...\n",
       "195  196        196     1334.69      879.47       0              7  58.43\n",
       "196  197        197     2035.08     1251.54       0             21  64.51\n",
       "197  198        198     1390.20     1327.56       1              6  51.16\n",
       "198  199        199     1968.63     2656.05       0             15  37.27\n",
       "199  200        200     1357.59     1206.39       1              6  52.80\n",
       "\n",
       "[200 rows x 7 columns]"
      ]
     },
     "execution_count": 50,
     "metadata": {},
     "output_type": "execute_result"
    }
   ],
   "source": [
    "print()\n",
    "dfProductSales = dfProductSales.drop_duplicates()\n",
    "#from above dtypes price needs to be float\n",
    "dfProductSales['Price'] = dfProductSales['Price'].replace(r'\\$','',regex = True).astype(float)\n",
    "dfProductSales"
   ]
  },
  {
   "cell_type": "code",
   "execution_count": 51,
   "metadata": {},
   "outputs": [
    {
     "name": "stdout",
     "output_type": "stream",
     "text": [
      "Obs                int64\n",
      "Product_ID        object\n",
      "Sales_2016       float64\n",
      "Sales_2017       float64\n",
      "Import             int64\n",
      "Num_Retailers      int64\n",
      "Price            float64\n",
      "dtype: object\n",
      " \n",
      "Count of Missing Values:  Obs              0\n",
      "Product_ID       0\n",
      "Sales_2016       0\n",
      "Sales_2017       0\n",
      "Import           0\n",
      "Num_Retailers    0\n",
      "Price            0\n",
      "dtype: int64\n"
     ]
    }
   ],
   "source": [
    "# 3b.\tTidy the dataset (i.e., make sure all columns are unique variables, all rows are unique observations, \n",
    "#       and there is a single data point in each cell). 2 marks\n",
    "print(dfProductSales.dtypes)\n",
    "print(\" \")\n",
    "print(\"Count of Missing Values:  \" +str(dfProductSales.isnull().sum()))"
   ]
  },
  {
   "cell_type": "code",
   "execution_count": 52,
   "metadata": {},
   "outputs": [
    {
     "data": {
      "image/png": "[encoded data removed]",
      "text/plain": [
       "<Figure size 1000x600 with 1 Axes>"
      ]
     },
     "metadata": {},
     "output_type": "display_data"
    }
   ],
   "source": [
    "# 3c.\tCreate a visualization of price with appropriate labels. 2 marks\n",
    "\n",
    "import matplotlib.pyplot as plt\n",
    "# Histogram of the Price variable\n",
    "plt.figure(figsize=(10, 6))\n",
    "plt.hist(dfProductSales['Price'], bins=20, color='Blue', edgecolor='white')\n",
    "plt.title('Price Distribution')\n",
    "plt.xlabel('Price ($)')\n",
    "plt.ylabel('Frequency')\n",
    "plt.grid(axis='y')\n",
    "\n",
    "plt.show()"
   ]
  },
  {
   "cell_type": "code",
   "execution_count": 53,
   "metadata": {},
   "outputs": [
    {
     "name": "stdout",
     "output_type": "stream",
     "text": [
      "Correlation between  price and number of retailers:  -0.050234651544592175\n"
     ]
    },
    {
     "data": {
      "image/png": "[encoded data removed]",
      "text/plain": [
       "<Figure size 1000x600 with 1 Axes>"
      ]
     },
     "metadata": {},
     "output_type": "display_data"
    }
   ],
   "source": [
    "# 3d.\tCalculate the correlation between price and number of retailers (In python: np.corrcoef()). Produce a scatterplot to visualize it, \n",
    "#       and explain what the correlation means in practical terms (i.e., to a business owner)  3 marks\n",
    "\n",
    "correlation = np.corrcoef(dfProductSales['Price'],dfProductSales['Num_Retailers'])\n",
    "correlation = correlation[0, 1]\n",
    "print(f\"Correlation between  price and number of retailers: \", correlation)\n",
    "\n",
    "plt.figure(figsize=(10, 6))\n",
    "plt.scatter(dfProductSales['Price'], dfProductSales['Num_Retailers'], alpha=0.5)\n",
    "plt.title('Price vs Number of Retailers')\n",
    "plt.xlabel('Price ($)')\n",
    "plt.ylabel('Number of Retailers')\n",
    "plt.grid(True)\n",
    "plt.show()#A correlation coefficient close to 0 suggests no strong linear relationship between the price and the number of retailers.\n",
    "#This means that changes in the price are unlikely to significantly affect how widely the product is distributed among retailers."
   ]
  },
  {
   "cell_type": "code",
   "execution_count": 54,
   "metadata": {},
   "outputs": [
    {
     "data": {
      "image/png": "[encoded data removed]",
      "text/plain": [
       "<Figure size 1000x600 with 1 Axes>"
      ]
     },
     "metadata": {},
     "output_type": "display_data"
    }
   ],
   "source": [
    "# 3e.\tTell a story with the data - produce an easy to understand visualization and describe the insights you’ve identified to your manager. \n",
    "#       Make sure the visualization can stand on its own without explanation, and that your story has a specific business purpose or outcome. 3 marks\n",
    "\n",
    "import seaborn as sns\n",
    "dfProductSales['Price_Clean'] = dfProductSales['Price'].replace('[\\$,]', '', regex=True).astype(float)\n",
    "\n",
    "plt.figure(figsize=(10, 6))\n",
    "plt.scatter(dfProductSales['Price_Clean'], dfProductSales['Sales_2016'], color='blue', label='Sales 2016')\n",
    "plt.scatter(dfProductSales['Price_Clean'], dfProductSales['Sales_2017'], color='red', label='Sales 2017')\n",
    "\n",
    "# Adding labels and title\n",
    "plt.xlabel('Price ($)')\n",
    "plt.ylabel('Annual Sales ($)')\n",
    "plt.title('Sales vs. Price for 2016 and 2017')\n",
    "plt.legend()\n",
    "\n",
    "# Show the plot\n",
    "plt.show()\n"
   ]
  },
  {
   "cell_type": "markdown",
   "metadata": {},
   "source": [
    "Annual sales appears more sensitive to higher prices in 2017 compared to 2016, where annual sales were more constant across a range of lower to higher prices."
   ]
  },
  {
   "cell_type": "code",
   "execution_count": 55,
   "metadata": {},
   "outputs": [
    {
     "name": "stdout",
     "output_type": "stream",
     "text": [
      "25 Observations: Y ~ Height + Experience\n",
      "                            OLS Regression Results                            \n",
      "==============================================================================\n",
      "Dep. Variable:                      Y   R-squared:                       0.878\n",
      "Model:                            OLS   Adj. R-squared:                  0.867\n",
      "Method:                 Least Squares   F-statistic:                     79.49\n",
      "Date:                Fri, 05 Jul 2024   Prob (F-statistic):           8.56e-11\n",
      "Time:                        12:05:09   Log-Likelihood:                -138.40\n",
      "No. Observations:                  25   AIC:                             282.8\n",
      "Df Residuals:                      22   BIC:                             286.5\n",
      "Df Model:                           2                                         \n",
      "Covariance Type:            nonrobust                                         \n",
      "==============================================================================\n",
      "                 coef    std err          t      P>|t|      [0.025      0.975]\n",
      "------------------------------------------------------------------------------\n",
      "Intercept    -39.5389     32.685     -1.210      0.239    -107.323      28.245\n",
      "Height         1.6693      0.533      3.133      0.005       0.564       2.774\n",
      "Experience   101.7732     11.530      8.827      0.000      77.861     125.685\n",
      "==============================================================================\n",
      "Omnibus:                        1.284   Durbin-Watson:                   2.380\n",
      "Prob(Omnibus):                  0.526   Jarque-Bera (JB):                0.951\n",
      "Skew:                           0.174   Prob(JB):                        0.621\n",
      "Kurtosis:                       2.110   Cond. No.                         132.\n",
      "==============================================================================\n",
      "\n",
      "Notes:\n",
      "[1] Standard Errors assume that the covariance matrix of the errors is correctly specified.\n"
     ]
    }
   ],
   "source": [
    "# 4a.Collinearity: collections of variables that tend to move together, such as height and weight, are called collinear.  This creates some challenges for analysis in that individual t-statistics tend to be less informative.  \n",
    "#       Using the data found on the tab ‘Collinear’:\n",
    "    # a.\tFilter the data to consider only the first 25 observations then run the following models; repeat the analysis with all 100 observations. You do not need to worry about standard data problems such as \n",
    "    # heteroscedasticity, etc. You must run 6 regressions in total – i, ii, and iii with 25 observations + i, ii, iii with 100 observations. Include a summary of your models and how you reached your conclusion.\n",
    "        # i.\tRun a linear regression to explain y in terms of experience and height.  Does height appear to explain y? 2 marks x2\n",
    "        # ii.\tRun a linear regression to explain y in terms of experience and weight.  Does weight appear to explain y? 2 marks x2\n",
    "        # iii.\tRun a linear regression to explain y in terms of experience and height and weight. Do height and weight appear to explain y? 2 marks x2\n",
    "\n",
    "import statsmodels.api as sm\n",
    "from statsmodels.formula.api import ols\n",
    "\n",
    "dfCollinearity25 = pd.read_excel(db_dir, sheet_name='Collinearity',nrows=25)\n",
    "\n",
    "print('25 Observations: Y ~ Height + Experience')\n",
    "model = ols('Y ~ Height + Experience',dfCollinearity25).fit()\n",
    "print(model.summary())\n"
   ]
  },
  {
   "cell_type": "markdown",
   "metadata": {},
   "source": [
    "The low p-value for height (0.005) indicates that height is a significant predictor of y in this model. Height significantly explains y.  with every unit increase in height leading to an increase of approximately 1.67 in y.The R-squared value of 0.878 suggests that approximately 87.8% of the variability in y can be explained by the model."
   ]
  },
  {
   "cell_type": "code",
   "execution_count": 56,
   "metadata": {},
   "outputs": [
    {
     "name": "stdout",
     "output_type": "stream",
     "text": [
      "25 Observations: Y ~ Weight + Experience\n",
      "                            OLS Regression Results                            \n",
      "==============================================================================\n",
      "Dep. Variable:                      Y   R-squared:                       0.855\n",
      "Model:                            OLS   Adj. R-squared:                  0.842\n",
      "Method:                 Least Squares   F-statistic:                     65.01\n",
      "Date:                Fri, 05 Jul 2024   Prob (F-statistic):           5.83e-10\n",
      "Time:                        12:05:09   Log-Likelihood:                -140.58\n",
      "No. Observations:                  25   AIC:                             287.2\n",
      "Df Residuals:                      22   BIC:                             290.8\n",
      "Df Model:                           2                                         \n",
      "Covariance Type:            nonrobust                                         \n",
      "==============================================================================\n",
      "                 coef    std err          t      P>|t|      [0.025      0.975]\n",
      "------------------------------------------------------------------------------\n",
      "Intercept    -69.9322     40.894     -1.710      0.101    -154.742      14.877\n",
      "Weight         1.5973      0.735      2.174      0.041       0.073       3.121\n",
      "Experience   110.3854     11.721      9.417      0.000      86.077     134.694\n",
      "==============================================================================\n",
      "Omnibus:                        0.590   Durbin-Watson:                   2.436\n",
      "Prob(Omnibus):                  0.744   Jarque-Bera (JB):                0.678\n",
      "Skew:                           0.283   Prob(JB):                        0.713\n",
      "Kurtosis:                       2.426   Cond. No.                         150.\n",
      "==============================================================================\n",
      "\n",
      "Notes:\n",
      "[1] Standard Errors assume that the covariance matrix of the errors is correctly specified.\n"
     ]
    }
   ],
   "source": [
    "print('25 Observations: Y ~ Weight + Experience')\n",
    "model = ols('Y ~ Weight + Experience',dfCollinearity25).fit()\n",
    "print(model.summary())"
   ]
  },
  {
   "cell_type": "markdown",
   "metadata": {},
   "source": [
    "The high p-value for weight (0.073) indicates that weight is not a significant predictor of y in this model. Weight does not significantly explains y.  with every unit increase in weight leading to an increase of approximately 1.60 in y.The R-squared value of 0.855 suggests that approximately 85.5% of the variability in y can be explained by the model."
   ]
  },
  {
   "cell_type": "code",
   "execution_count": 57,
   "metadata": {},
   "outputs": [
    {
     "name": "stdout",
     "output_type": "stream",
     "text": [
      "25 Observations: Y ~ Height + Weight + Experience\n",
      "                            OLS Regression Results                            \n",
      "==============================================================================\n",
      "Dep. Variable:                      Y   R-squared:                       0.880\n",
      "Model:                            OLS   Adj. R-squared:                  0.862\n",
      "Method:                 Least Squares   F-statistic:                     51.17\n",
      "Date:                Fri, 05 Jul 2024   Prob (F-statistic):           7.89e-10\n",
      "Time:                        12:05:09   Log-Likelihood:                -138.27\n",
      "No. Observations:                  25   AIC:                             284.5\n",
      "Df Residuals:                      21   BIC:                             289.4\n",
      "Df Model:                           3                                         \n",
      "Covariance Type:            nonrobust                                         \n",
      "==============================================================================\n",
      "                 coef    std err          t      P>|t|      [0.025      0.975]\n",
      "------------------------------------------------------------------------------\n",
      "Intercept    -26.5362     43.584     -0.609      0.549    -117.173      64.101\n",
      "Weight        -0.5822      1.260     -0.462      0.649      -3.202       2.038\n",
      "Experience   101.1227     11.826      8.551      0.000      76.529     125.716\n",
      "Height         2.0557      0.997      2.063      0.052      -0.017       4.128\n",
      "==============================================================================\n",
      "Omnibus:                        1.275   Durbin-Watson:                   2.351\n",
      "Prob(Omnibus):                  0.529   Jarque-Bera (JB):                0.932\n",
      "Skew:                           0.150   Prob(JB):                        0.628\n",
      "Kurtosis:                       2.103   Cond. No.                         238.\n",
      "==============================================================================\n",
      "\n",
      "Notes:\n",
      "[1] Standard Errors assume that the covariance matrix of the errors is correctly specified.\n"
     ]
    }
   ],
   "source": [
    "print('25 Observations: Y ~ Height + Weight + Experience')\n",
    "model = ols('Y ~ Weight + Experience + Height',dfCollinearity25).fit()\n",
    "print(model.summary())"
   ]
  },
  {
   "cell_type": "markdown",
   "metadata": {},
   "source": [
    "The high p-value for height (0.052) and weight (0.649) indicates that height and weight are not a significant predictor of y in this model. Height and weight does not significantly impact y.  with every unit increase in height and weight leading to an increase of approximately 2.06 and -0.582 respectively in y.The R-squared value of 0.880 suggests that approximately 88% of the variability in y can be explained by the model."
   ]
  },
  {
   "cell_type": "code",
   "execution_count": 58,
   "metadata": {},
   "outputs": [
    {
     "name": "stdout",
     "output_type": "stream",
     "text": [
      "100 Observations: Y ~ Height+ Experience\n",
      "                            OLS Regression Results                            \n",
      "==============================================================================\n",
      "Dep. Variable:                      Y   R-squared:                       0.840\n",
      "Model:                            OLS   Adj. R-squared:                  0.837\n",
      "Method:                 Least Squares   F-statistic:                     255.0\n",
      "Date:                Fri, 05 Jul 2024   Prob (F-statistic):           2.36e-39\n",
      "Time:                        12:05:09   Log-Likelihood:                -540.07\n",
      "No. Observations:                 100   AIC:                             1086.\n",
      "Df Residuals:                      97   BIC:                             1094.\n",
      "Df Model:                           2                                         \n",
      "Covariance Type:            nonrobust                                         \n",
      "==============================================================================\n",
      "                 coef    std err          t      P>|t|      [0.025      0.975]\n",
      "------------------------------------------------------------------------------\n",
      "Intercept      0.9241     16.868      0.055      0.956     -32.555      34.403\n",
      "Height         1.2762      0.184      6.935      0.000       0.911       1.641\n",
      "Experience    96.2549      4.365     22.051      0.000      87.592     104.918\n",
      "==============================================================================\n",
      "Omnibus:                        0.048   Durbin-Watson:                   2.425\n",
      "Prob(Omnibus):                  0.977   Jarque-Bera (JB):                0.080\n",
      "Skew:                           0.046   Prob(JB):                        0.961\n",
      "Kurtosis:                       2.897   Cond. No.                         170.\n",
      "==============================================================================\n",
      "\n",
      "Notes:\n",
      "[1] Standard Errors assume that the covariance matrix of the errors is correctly specified.\n"
     ]
    }
   ],
   "source": [
    "print('100 Observations: Y ~ Height+ Experience')\n",
    "model = ols('Y ~ Height + Experience',dfCollinearity).fit()\n",
    "print(model.summary())"
   ]
  },
  {
   "cell_type": "markdown",
   "metadata": {},
   "source": [
    "The low p-value for height (0.000) indicates that height is a significant predictor of y in this model. Height significantly explains y.  with every unit increase in height leading to an increase of approximately 1.28 in y.The R-squared value of 0.84 suggests that approximately 84% of the variability in y can be explained by the model."
   ]
  },
  {
   "cell_type": "code",
   "execution_count": 59,
   "metadata": {},
   "outputs": [
    {
     "name": "stdout",
     "output_type": "stream",
     "text": [
      "100 Observations: Y ~ Weight +Experience\n",
      "                            OLS Regression Results                            \n",
      "==============================================================================\n",
      "Dep. Variable:                      Y   R-squared:                       0.817\n",
      "Model:                            OLS   Adj. R-squared:                  0.814\n",
      "Method:                 Least Squares   F-statistic:                     217.0\n",
      "Date:                Fri, 05 Jul 2024   Prob (F-statistic):           1.55e-36\n",
      "Time:                        12:05:09   Log-Likelihood:                -546.75\n",
      "No. Observations:                 100   AIC:                             1100.\n",
      "Df Residuals:                      97   BIC:                             1107.\n",
      "Df Model:                           2                                         \n",
      "Covariance Type:            nonrobust                                         \n",
      "==============================================================================\n",
      "                 coef    std err          t      P>|t|      [0.025      0.975]\n",
      "------------------------------------------------------------------------------\n",
      "Intercept    -10.4614     20.496     -0.510      0.611     -51.141      30.218\n",
      "Weight         1.5527      0.284      5.472      0.000       0.989       2.116\n",
      "Experience    95.6817      4.665     20.512      0.000      86.424     104.940\n",
      "==============================================================================\n",
      "Omnibus:                        0.883   Durbin-Watson:                   2.311\n",
      "Prob(Omnibus):                  0.643   Jarque-Bera (JB):                0.589\n",
      "Skew:                           0.183   Prob(JB):                        0.745\n",
      "Kurtosis:                       3.090   Cond. No.                         177.\n",
      "==============================================================================\n",
      "\n",
      "Notes:\n",
      "[1] Standard Errors assume that the covariance matrix of the errors is correctly specified.\n"
     ]
    }
   ],
   "source": [
    "print('100 Observations: Y ~ Weight +Experience')\n",
    "model = ols('Y ~ Weight + Experience',dfCollinearity).fit()\n",
    "print(model.summary())"
   ]
  },
  {
   "cell_type": "code",
   "execution_count": 60,
   "metadata": {},
   "outputs": [
    {
     "name": "stdout",
     "output_type": "stream",
     "text": [
      "100 Observations: Y ~ Height + Weight + Experience\n",
      "                            OLS Regression Results                            \n",
      "==============================================================================\n",
      "Dep. Variable:                      Y   R-squared:                       0.840\n",
      "Model:                            OLS   Adj. R-squared:                  0.835\n",
      "Method:                 Least Squares   F-statistic:                     168.3\n",
      "Date:                Fri, 05 Jul 2024   Prob (F-statistic):           4.27e-38\n",
      "Time:                        12:05:09   Log-Likelihood:                -540.07\n",
      "No. Observations:                 100   AIC:                             1088.\n",
      "Df Residuals:                      96   BIC:                             1099.\n",
      "Df Model:                           3                                         \n",
      "Covariance Type:            nonrobust                                         \n",
      "==============================================================================\n",
      "                 coef    std err          t      P>|t|      [0.025      0.975]\n",
      "------------------------------------------------------------------------------\n",
      "Intercept      1.5994     19.543      0.082      0.935     -37.193      40.391\n",
      "Weight        -0.0351      0.505     -0.069      0.945      -1.037       0.967\n",
      "Experience    96.2495      4.388     21.933      0.000      87.539     104.960\n",
      "Height         1.2968      0.350      3.707      0.000       0.602       1.991\n",
      "==============================================================================\n",
      "Omnibus:                        0.045   Durbin-Watson:                   2.427\n",
      "Prob(Omnibus):                  0.978   Jarque-Bera (JB):                0.076\n",
      "Skew:                           0.044   Prob(JB):                        0.963\n",
      "Kurtosis:                       2.899   Cond. No.                         261.\n",
      "==============================================================================\n",
      "\n",
      "Notes:\n",
      "[1] Standard Errors assume that the covariance matrix of the errors is correctly specified.\n"
     ]
    }
   ],
   "source": [
    "print('100 Observations: Y ~ Height + Weight + Experience')\n",
    "model = ols('Y ~ Weight + Experience + Height',dfCollinearity).fit()\n",
    "print(model.summary())"
   ]
  },
  {
   "cell_type": "markdown",
   "metadata": {},
   "source": [
    "The high p-value for weight (0.945) indicates that  weight is not a significant predictor of y in this model. Weight does not significantly impact y.  with every unit increase in height and weight leading to an increase of approximately -0.0351 in y.The R-squared value of 0.840 suggests that approximately 84% of the variability in y can be explained by the model.\n",
    "\n",
    "The low p-value for height (0.000) indicates that height is a significant predictor of y in this model. Height significantly explains y.  with every unit increase in height leading to an increase of approximately 1.28 in y.The R-squared value of 0.840 suggests that approximately 84% of the variability in y can be explained by the model."
   ]
  },
  {
   "cell_type": "markdown",
   "metadata": {},
   "source": [
    "4b.\tConsider the results you have found from the work in a. Write a paragraph or two to explain to your manager the patterns \n",
    "you observed with respect to the significance of the t-statistics, why these results occurred, \n",
    "and the strategies for using explanatory variables that exhibit collinearity. 3 marks\n",
    "\n",
    "\n",
    "When analyzing the regression analysis summary for the 3 items (25 Observations): Height, Weight, Height + Weight \n",
    "having on its significance on Y. The significance of Height and Weight independently have an influence Y. But, \n",
    "when looking at both Height and Weight together. Weight does not \n",
    "have significant impact to Y.\n",
    "\n",
    "When comparing the models using the 25 and 100 observations, the results are very different. Looking at only \n",
    "25 observations, each data point has more leverage to skew the results. By having a larger oberservations, \n",
    "it can reduce the influence of each data point and increase the reliability of the results.\n",
    "\n",
    "Collinearity occurs when two or more predictor variables are highly correlated, making it difficult to isolate their individual effects on the dependent variable. Height and weight are naturally correlated because they both relate to physical characteristics. This correlation can inflate the variances of the coefficient estimates, leading to statistically insignificant results for one of the variables when both are included in the model"
   ]
  },
  {
   "cell_type": "markdown",
   "metadata": {},
   "source": []
  }
 ],
 "metadata": {
  "kernelspec": {
   "display_name": "Python 3",
   "language": "python",
   "name": "python3"
  },
  "language_info": {
   "codemirror_mode": {
    "name": "ipython",
    "version": 3
   },
   "file_extension": ".py",
   "mimetype": "text/x-python",
   "name": "python",
   "nbconvert_exporter": "python",
   "pygments_lexer": "ipython3",
   "version": "3.11.7"
  }
 },
 "nbformat": 4,
 "nbformat_minor": 2
}
