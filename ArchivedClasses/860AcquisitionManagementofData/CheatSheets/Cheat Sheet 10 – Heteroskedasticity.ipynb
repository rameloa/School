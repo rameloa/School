{
 "cells": [
  {
   "cell_type": "markdown",
   "metadata": {},
   "source": [
    "One of the standard assumptions in regression models is that the error term is identically and independently distributed. One common violation of this assumption occurs when there is heteroskedasticity, which means that the error term has a variance that follows a pattern.\n",
    "\n",
    "Typically, the amount of variability in the error term either increases or decreases with one or more variables, though more complex functions are possible too. For example, the variability of a return on a stock portfolio might depend on the number of stocks in that portfolio.\n",
    "\n",
    "The possibility of heteroskedasticity should be considered in most contexts. It can be tested for using a variety of tests. If heteroskedasticity does exist, its presence does not bias results, but it does make estimates less efficient (i.e. accurate) and it invalidates standard inferences (i.e. hypothesis testing and confidence interval calculation). The latter issue can be addressed by using a simple correction called the HCCME; the former requires a more sophisticated fix called **Generalized Least Squares (GLS)** if the form of heteroskedasticity is known or Feasible Generalized Least Squares if it is not. Neither form of GLS are in scope for this course.\n",
    "\n",
    "This cheat sheet will focus on the testing for heteroskedasticity and correcting the problem of inferences in the presence of heteroskedasticity. "
   ]
  },
  {
   "cell_type": "markdown",
   "metadata": {},
   "source": [
    "# Tasks"
   ]
  },
  {
   "cell_type": "markdown",
   "metadata": {},
   "source": [
    "## Import the data into Python and train the model\n",
    "\n",
    "The data can be found in the $\\text{MMA 860 Assessing and Testing Data File v1.0}$ spreadsheet on its own worksheet."
   ]
  },
  {
   "cell_type": "code",
   "execution_count": 1,
   "metadata": {},
   "outputs": [],
   "source": [
    "import os.path as osp\n",
    "import pandas as pd\n",
    "from sklearn.linear_model import LinearRegression\n",
    "import os"
   ]
  },
  {
   "cell_type": "code",
   "execution_count": 5,
   "metadata": {},
   "outputs": [
    {
     "data": {
      "text/html": [
       "<div>\n",
       "<style scoped>\n",
       "    .dataframe tbody tr th:only-of-type {\n",
       "        vertical-align: middle;\n",
       "    }\n",
       "\n",
       "    .dataframe tbody tr th {\n",
       "        vertical-align: top;\n",
       "    }\n",
       "\n",
       "    .dataframe thead th {\n",
       "        text-align: right;\n",
       "    }\n",
       "</style>\n",
       "<table border=\"1\" class=\"dataframe\">\n",
       "  <thead>\n",
       "    <tr style=\"text-align: right;\">\n",
       "      <th></th>\n",
       "      <th>Y</th>\n",
       "      <th>X1</th>\n",
       "      <th>X2</th>\n",
       "    </tr>\n",
       "    <tr>\n",
       "      <th>Obs</th>\n",
       "      <th></th>\n",
       "      <th></th>\n",
       "      <th></th>\n",
       "    </tr>\n",
       "  </thead>\n",
       "  <tbody>\n",
       "    <tr>\n",
       "      <th>1</th>\n",
       "      <td>4084</td>\n",
       "      <td>38</td>\n",
       "      <td>22</td>\n",
       "    </tr>\n",
       "    <tr>\n",
       "      <th>2</th>\n",
       "      <td>4828</td>\n",
       "      <td>45</td>\n",
       "      <td>24</td>\n",
       "    </tr>\n",
       "    <tr>\n",
       "      <th>3</th>\n",
       "      <td>10304</td>\n",
       "      <td>98</td>\n",
       "      <td>21</td>\n",
       "    </tr>\n",
       "    <tr>\n",
       "      <th>4</th>\n",
       "      <td>5379</td>\n",
       "      <td>53</td>\n",
       "      <td>18</td>\n",
       "    </tr>\n",
       "    <tr>\n",
       "      <th>5</th>\n",
       "      <td>1670</td>\n",
       "      <td>14</td>\n",
       "      <td>27</td>\n",
       "    </tr>\n",
       "  </tbody>\n",
       "</table>\n",
       "</div>"
      ],
      "text/plain": [
       "         Y  X1  X2\n",
       "Obs               \n",
       "1     4084  38  22\n",
       "2     4828  45  24\n",
       "3    10304  98  21\n",
       "4     5379  53  18\n",
       "5     1670  14  27"
      ]
     },
     "execution_count": 5,
     "metadata": {},
     "output_type": "execute_result"
    }
   ],
   "source": [
    "path = osp.join(\n",
    "    osp.curdir,'Data',\"MMA 860 Assessing and Testing Data File v1.0.xlsx\")\n",
    "data_path = osp.join(\n",
    "    osp.curdir,'Data','Cheat_Sheet_Chow_Test_V1_0.xlsx')\n",
    "import os\n",
    "db_dir = os.getcwd()\n",
    "data_path = db_dir+r\"/MMA 860 Assessing and Testing Data File v1.0.xlsx\"\n",
    "data = pd.read_excel(data_path,sheet_name='Heteroskedasticity',index_col = 'Obs')\n",
    "data.head()"
   ]
  },
  {
   "cell_type": "code",
   "execution_count": 6,
   "metadata": {},
   "outputs": [],
   "source": [
    "X_train = data[['X1','X2']].values\n",
    "y_train = data[['Y']].values"
   ]
  },
  {
   "cell_type": "code",
   "execution_count": 7,
   "metadata": {},
   "outputs": [],
   "source": [
    "reg = LinearRegression().fit(X_train,y_train)"
   ]
  },
  {
   "cell_type": "markdown",
   "metadata": {},
   "source": [
    "# Revisiting the Scale Location Plot\n",
    "\n",
    "Examine the plot of the error term. You should see a fairly obvious example of heteroskedasticity similar to that shown in the chart below."
   ]
  },
  {
   "cell_type": "code",
   "execution_count": 8,
   "metadata": {},
   "outputs": [],
   "source": [
    "residuals = y_train - reg.predict(X_train)"
   ]
  },
  {
   "cell_type": "code",
   "execution_count": 9,
   "metadata": {},
   "outputs": [
    {
     "data": {
      "image/png": "[encoded data removed]",
      "text/plain": [
       "<Figure size 640x480 with 1 Axes>"
      ]
     },
     "metadata": {},
     "output_type": "display_data"
    }
   ],
   "source": [
    "%matplotlib inline\n",
    "import matplotlib.pyplot as plt\n",
    "from sklearn.preprocessing import StandardScaler\n",
    "import numpy as np\n",
    "\n",
    "# First we create an array of normalized residuals using a Scikit function\n",
    "scaler = StandardScaler().fit(residuals.reshape(-1,1))\n",
    "norm_residuals = scaler.transform(residuals.reshape(-1,1))\n",
    "\n",
    "# Plot and take the root and absolute values of the norms\n",
    "plt.scatter(reg.predict(X_train),norm_residuals,c='black',s=2)\n",
    "plt.xlabel(\"Fitted Values\")\n",
    "plt.ylabel(\"Standardized Residuals\")\n",
    "plt.show()"
   ]
  },
  {
   "cell_type": "markdown",
   "metadata": {},
   "source": [
    "You can see here that as the predicted value of Y increases, the variance of the residual also increases. By producing a ‘residuals by regressor’ plot by you can gain more insight into where the heteroskedasticity originates."
   ]
  },
  {
   "cell_type": "code",
   "execution_count": 10,
   "metadata": {},
   "outputs": [
    {
     "data": {
      "image/png": "[encoded data removed]",
      "text/plain": [
       "<Figure size 640x480 with 1 Axes>"
      ]
     },
     "metadata": {},
     "output_type": "display_data"
    }
   ],
   "source": [
    "'''\n",
    "To turn the X_train into the proper shape, we use the transpose function\n",
    "on the array and index the correct vector of information.\n",
    "'''\n",
    "plt.scatter(X_train.transpose()[0],residuals,c='black',s=2)\n",
    "plt.title(\"X1\")\n",
    "plt.show()"
   ]
  },
  {
   "cell_type": "code",
   "execution_count": 9,
   "metadata": {},
   "outputs": [
    {
     "data": {
      "image/png": "[encoded data removed]",
      "text/plain": [
       "<Figure size 640x480 with 1 Axes>"
      ]
     },
     "metadata": {},
     "output_type": "display_data"
    }
   ],
   "source": [
    "plt.scatter(X_train.transpose()[1],residuals,c='black',s=2)\n",
    "plt.title(\"X2\")\n",
    "plt.show()"
   ]
  },
  {
   "cell_type": "markdown",
   "metadata": {},
   "source": [
    "## The Breusch-Pagan Test \n",
    "\n",
    "There are several tests for heteroskedasticity, notably one by **Breusch-Pagan**. The Breusch-Pagan test is specifically for heteroskedasticity, however there exist other specification tests (notably, **White**) that test for broader specification errors. You can run the Breusch-Pagan test using the StatsModel library\n",
    "\n",
    "The results of the Breusch-Pagan test will be a tuple of 4 values. The ones we are concerned about are the p-values. If either are less than $0.05$ then the model is found to be heteroskedastic."
   ]
  },
  {
   "cell_type": "code",
   "execution_count": 12,
   "metadata": {},
   "outputs": [
    {
     "name": "stdout",
     "output_type": "stream",
     "text": [
      "{'LM Statistic': 29.093195357985014, 'LM-Test p-value': 4.813853813579806e-07, 'F-Statistic': 19.899641254263912, 'F-Test p-value': 5.7327613417343636e-08}\n"
     ]
    }
   ],
   "source": [
    "#Import the relevant libraries and train the model\n",
    "from statsmodels.formula.api import ols\n",
    "from statsmodels.stats.diagnostic import het_breuschpagan\n",
    "results = ols('Y ~ X1 + X2',data).fit()\n",
    "\n",
    "#Perform the Breuch-Pagan Test by running this line\n",
    "bp = het_breuschpagan(results.resid,results.model.exog)\n",
    "measures = ('LM Statistic', 'LM-Test p-value', 'F-Statistic', 'F-Test p-value')\n",
    "print(dict(zip(measures,bp)))"
   ]
  },
  {
   "cell_type": "markdown",
   "metadata": {},
   "source": [
    "•\tLM Statistic: This is the Lagrange multiplier statistic for the test. A higher value typically indicates stronger evidence against the null hypothesis, which states that variance of the errors is constant (homoscedasticity).\n",
    "•\tLM-Test p-value: This is the p-value for the LM statistic. A p-value less than 0.05 typically leads to rejecting the null hypothesis, suggesting that the model is heteroskedastic.\n",
    "•\tF-Statistic: This statistic provides another way to test the hypothesis, using an F-distribution.\n",
    "•\tF-Test p-value: This is the p-value for the F-statistic, also used to determine the presence of heteroskedasticity.\n"
   ]
  },
  {
   "cell_type": "markdown",
   "metadata": {},
   "source": [
    "•\tThe LM-Test p-value and the F-Test p-value are both extremely small (close to zero), which strongly suggests that the null hypothesis of homoscedasticity (constant variance of errors) should be rejected. Thus, the model is likely heteroskedastic."
   ]
  },
  {
   "cell_type": "markdown",
   "metadata": {},
   "source": [
    "## The HCCME (Heteroskedasticity Consistent Covariance Matrix Estimator) Method\n",
    "\n",
    "If specification problems are detected, you can correct the inferences in the regression by using the HCCME method. This corrects the covariance matrix in the background to fix our hypothesis tests. There is a statsmodels function that allows us to do this."
   ]
  },
  {
   "cell_type": "code",
   "execution_count": 13,
   "metadata": {},
   "outputs": [
    {
     "data": {
      "text/html": [
       "<table class=\"simpletable\">\n",
       "<caption>OLS Regression Results</caption>\n",
       "<tr>\n",
       "  <th>Dep. Variable:</th>            <td>Y</td>        <th>  R-squared:         </th> <td>   0.999</td> \n",
       "</tr>\n",
       "<tr>\n",
       "  <th>Model:</th>                   <td>OLS</td>       <th>  Adj. R-squared:    </th> <td>   0.999</td> \n",
       "</tr>\n",
       "<tr>\n",
       "  <th>Method:</th>             <td>Least Squares</td>  <th>  F-statistic:       </th> <td>3.153e+04</td>\n",
       "</tr>\n",
       "<tr>\n",
       "  <th>Date:</th>             <td>Wed, 10 Jul 2024</td> <th>  Prob (F-statistic):</th> <td>3.45e-137</td>\n",
       "</tr>\n",
       "<tr>\n",
       "  <th>Time:</th>                 <td>19:50:38</td>     <th>  Log-Likelihood:    </th> <td> -593.82</td> \n",
       "</tr>\n",
       "<tr>\n",
       "  <th>No. Observations:</th>      <td>   100</td>      <th>  AIC:               </th> <td>   1194.</td> \n",
       "</tr>\n",
       "<tr>\n",
       "  <th>Df Residuals:</th>          <td>    97</td>      <th>  BIC:               </th> <td>   1201.</td> \n",
       "</tr>\n",
       "<tr>\n",
       "  <th>Df Model:</th>              <td>     2</td>      <th>                     </th>     <td> </td>    \n",
       "</tr>\n",
       "<tr>\n",
       "  <th>Covariance Type:</th>         <td>HC3</td>       <th>                     </th>     <td> </td>    \n",
       "</tr>\n",
       "</table>\n",
       "<table class=\"simpletable\">\n",
       "<tr>\n",
       "      <td></td>         <th>coef</th>     <th>std err</th>      <th>t</th>      <th>P>|t|</th>  <th>[0.025</th>    <th>0.975]</th>  \n",
       "</tr>\n",
       "<tr>\n",
       "  <th>Intercept</th> <td>   93.1518</td> <td>   57.164</td> <td>    1.630</td> <td> 0.106</td> <td>  -20.302</td> <td>  206.606</td>\n",
       "</tr>\n",
       "<tr>\n",
       "  <th>X1</th>        <td>   99.9793</td> <td>    0.411</td> <td>  243.550</td> <td> 0.000</td> <td>   99.165</td> <td>  100.794</td>\n",
       "</tr>\n",
       "<tr>\n",
       "  <th>X2</th>        <td>    5.8192</td> <td>    3.078</td> <td>    1.890</td> <td> 0.062</td> <td>   -0.290</td> <td>   11.928</td>\n",
       "</tr>\n",
       "</table>\n",
       "<table class=\"simpletable\">\n",
       "<tr>\n",
       "  <th>Omnibus:</th>       <td> 7.895</td> <th>  Durbin-Watson:     </th> <td>   1.835</td>\n",
       "</tr>\n",
       "<tr>\n",
       "  <th>Prob(Omnibus):</th> <td> 0.019</td> <th>  Jarque-Bera (JB):  </th> <td>   8.486</td>\n",
       "</tr>\n",
       "<tr>\n",
       "  <th>Skew:</th>          <td> 0.481</td> <th>  Prob(JB):          </th> <td>  0.0144</td>\n",
       "</tr>\n",
       "<tr>\n",
       "  <th>Kurtosis:</th>      <td> 4.054</td> <th>  Cond. No.          </th> <td>    406.</td>\n",
       "</tr>\n",
       "</table><br/><br/>Notes:<br/>[1] Standard Errors are heteroscedasticity robust (HC3)"
      ],
      "text/latex": [
       "\\begin{center}\n",
       "\\begin{tabular}{lclc}\n",
       "\\toprule\n",
       "\\textbf{Dep. Variable:}    &        Y         & \\textbf{  R-squared:         } &     0.999   \\\\\n",
       "\\textbf{Model:}            &       OLS        & \\textbf{  Adj. R-squared:    } &     0.999   \\\\\n",
       "\\textbf{Method:}           &  Least Squares   & \\textbf{  F-statistic:       } & 3.153e+04   \\\\\n",
       "\\textbf{Date:}             & Wed, 10 Jul 2024 & \\textbf{  Prob (F-statistic):} & 3.45e-137   \\\\\n",
       "\\textbf{Time:}             &     19:50:38     & \\textbf{  Log-Likelihood:    } &   -593.82   \\\\\n",
       "\\textbf{No. Observations:} &         100      & \\textbf{  AIC:               } &     1194.   \\\\\n",
       "\\textbf{Df Residuals:}     &          97      & \\textbf{  BIC:               } &     1201.   \\\\\n",
       "\\textbf{Df Model:}         &           2      & \\textbf{                     } &             \\\\\n",
       "\\textbf{Covariance Type:}  &       HC3        & \\textbf{                     } &             \\\\\n",
       "\\bottomrule\n",
       "\\end{tabular}\n",
       "\\begin{tabular}{lcccccc}\n",
       "                   & \\textbf{coef} & \\textbf{std err} & \\textbf{t} & \\textbf{P$> |$t$|$} & \\textbf{[0.025} & \\textbf{0.975]}  \\\\\n",
       "\\midrule\n",
       "\\textbf{Intercept} &      93.1518  &       57.164     &     1.630  &         0.106        &      -20.302    &      206.606     \\\\\n",
       "\\textbf{X1}        &      99.9793  &        0.411     &   243.550  &         0.000        &       99.165    &      100.794     \\\\\n",
       "\\textbf{X2}        &       5.8192  &        3.078     &     1.890  &         0.062        &       -0.290    &       11.928     \\\\\n",
       "\\bottomrule\n",
       "\\end{tabular}\n",
       "\\begin{tabular}{lclc}\n",
       "\\textbf{Omnibus:}       &  7.895 & \\textbf{  Durbin-Watson:     } &    1.835  \\\\\n",
       "\\textbf{Prob(Omnibus):} &  0.019 & \\textbf{  Jarque-Bera (JB):  } &    8.486  \\\\\n",
       "\\textbf{Skew:}          &  0.481 & \\textbf{  Prob(JB):          } &   0.0144  \\\\\n",
       "\\textbf{Kurtosis:}      &  4.054 & \\textbf{  Cond. No.          } &     406.  \\\\\n",
       "\\bottomrule\n",
       "\\end{tabular}\n",
       "%\\caption{OLS Regression Results}\n",
       "\\end{center}\n",
       "\n",
       "Notes: \\newline\n",
       " [1] Standard Errors are heteroscedasticity robust (HC3)"
      ],
      "text/plain": [
       "<class 'statsmodels.iolib.summary.Summary'>\n",
       "\"\"\"\n",
       "                            OLS Regression Results                            \n",
       "==============================================================================\n",
       "Dep. Variable:                      Y   R-squared:                       0.999\n",
       "Model:                            OLS   Adj. R-squared:                  0.999\n",
       "Method:                 Least Squares   F-statistic:                 3.153e+04\n",
       "Date:                Wed, 10 Jul 2024   Prob (F-statistic):          3.45e-137\n",
       "Time:                        19:50:38   Log-Likelihood:                -593.82\n",
       "No. Observations:                 100   AIC:                             1194.\n",
       "Df Residuals:                      97   BIC:                             1201.\n",
       "Df Model:                           2                                         \n",
       "Covariance Type:                  HC3                                         \n",
       "==============================================================================\n",
       "                 coef    std err          t      P>|t|      [0.025      0.975]\n",
       "------------------------------------------------------------------------------\n",
       "Intercept     93.1518     57.164      1.630      0.106     -20.302     206.606\n",
       "X1            99.9793      0.411    243.550      0.000      99.165     100.794\n",
       "X2             5.8192      3.078      1.890      0.062      -0.290      11.928\n",
       "==============================================================================\n",
       "Omnibus:                        7.895   Durbin-Watson:                   1.835\n",
       "Prob(Omnibus):                  0.019   Jarque-Bera (JB):                8.486\n",
       "Skew:                           0.481   Prob(JB):                       0.0144\n",
       "Kurtosis:                       4.054   Cond. No.                         406.\n",
       "==============================================================================\n",
       "\n",
       "Notes:\n",
       "[1] Standard Errors are heteroscedasticity robust (HC3)\n",
       "\"\"\""
      ]
     },
     "execution_count": 13,
     "metadata": {},
     "output_type": "execute_result"
    }
   ],
   "source": [
    "'''\n",
    "Below, we apply the mentioned function. It takes one argument, the HCCME\n",
    "version. Typically HC3 is preferred, but HC2 can be used if your data \n",
    "has greater than 250 observations.\n",
    "'''\n",
    "corrected_model = results.get_robustcov_results(cov_type = 'HC3')\n",
    "corrected_model.summary()"
   ]
  },
  {
   "cell_type": "markdown",
   "metadata": {},
   "source": [
    "This produces heteroskedasticity-consistent inferences and tests in the same way a regular regression does. It will also use the corrected covariance matrix for any test statements used on the model."
   ]
  },
  {
   "cell_type": "code",
   "execution_count": null,
   "metadata": {},
   "outputs": [],
   "source": []
  }
 ],
 "metadata": {
  "kernelspec": {
   "display_name": "Python 3 (ipykernel)",
   "language": "python",
   "name": "python3"
  },
  "language_info": {
   "codemirror_mode": {
    "name": "ipython",
    "version": 3
   },
   "file_extension": ".py",
   "mimetype": "text/x-python",
   "name": "python",
   "nbconvert_exporter": "python",
   "pygments_lexer": "ipython3",
   "version": "3.11.7"
  }
 },
 "nbformat": 4,
 "nbformat_minor": 2
}
