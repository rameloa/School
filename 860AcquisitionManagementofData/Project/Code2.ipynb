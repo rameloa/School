{
 "cells": [
  {
   "cell_type": "markdown",
   "metadata": {},
   "source": [
    "## Formula 1\n",
    "Business Problem: What factors/features are needed to predict race outcome"
   ]
  },
  {
   "cell_type": "markdown",
   "metadata": {},
   "source": [
    "1. Import required libraries"
   ]
  },
  {
   "cell_type": "code",
   "execution_count": 1,
   "metadata": {},
   "outputs": [],
   "source": [
    "import pandas as pd\n",
    "import os\n",
    "import matplotlib.pyplot as plt\n",
    "import numpy as np\n",
    "import statsmodels.api as sm\n",
    "from sklearn.linear_model import LinearRegression\n",
    "\n",
    "from statsmodels.formula.api import ols\n",
    "from scipy.stats import norm, probplot\n",
    "from sklearn.preprocessing import StandardScaler\n"
   ]
  },
  {
   "cell_type": "markdown",
   "metadata": {},
   "source": [
    "Get Data from the erghast F1 API\n",
    "</br> Contains data from all the races since 1950"
   ]
  },
  {
   "cell_type": "markdown",
   "metadata": {},
   "source": [
    "2. Import the datasets from the erghast API for the prediction"
   ]
  },
  {
   "cell_type": "code",
   "execution_count": 94,
   "metadata": {},
   "outputs": [
    {
     "name": "stdout",
     "output_type": "stream",
     "text": [
      "Index(['raceId', 'year', 'round', 'circuitId', 'name_x', 'date', 'time_x',\n",
      "       'fp1_date', 'fp1_time', 'fp2_date', 'fp2_time', 'fp3_date', 'fp3_time',\n",
      "       'quali_date', 'quali_time', 'sprint_date', 'sprint_time', 'driverId',\n",
      "       'stop', 'lap', 'time_y', 'duration', 'milliseconds_x', 'driverRef',\n",
      "       'code', 'forename', 'surname', 'dob', 'nationality', 'resultId',\n",
      "       'constructorId', 'number', 'grid', 'position', 'positionText',\n",
      "       'positionOrder', 'points', 'laps', 'time', 'milliseconds_y',\n",
      "       'fastestLap', 'rank', 'fastestLapTime', 'fastestLapSpeed', 'statusId',\n",
      "       'circuitRef', 'name_y', 'location', 'country', 'lat', 'lng', 'alt',\n",
      "       'url', 'circuit_type'],\n",
      "      dtype='object')\n"
     ]
    },
    {
     "name": "stderr",
     "output_type": "stream",
     "text": [
      "/var/folders/mr/l3x9p9wd385gcyns864s9f2w0000gn/T/ipykernel_53368/2055408379.py:43: SettingWithCopyWarning: \n",
      "A value is trying to be set on a copy of a slice from a DataFrame.\n",
      "Try using .loc[row_indexer,col_indexer] = value instead\n",
      "\n",
      "See the caveats in the documentation: https://pandas.pydata.org/pandas-docs/stable/user_guide/indexing.html#returning-a-view-versus-a-copy\n",
      "  df_new_merged1['new_time_seconds'] = df_new_merged1['time'].replace('\\+', '', regex=True).apply(convert_new_time_to_seconds_v4)\n"
     ]
    }
   ],
   "source": [
    "db_dir = os.getcwd()\n",
    "pit_stops = pd.read_csv(db_dir + r'/data/pit_stops.csv')\n",
    "races = pd.read_csv(db_dir + r'/data/races.csv')\n",
    "drivers = pd.read_csv(db_dir + r'/data/drivers.csv')\n",
    "results = pd.read_csv(db_dir + r'/data/results.csv')\n",
    "driver_standings = pd.read_csv(db_dir + r'/data/driver_standings.csv')\n",
    "circuits = pd.read_csv(db_dir + r'/data/circuits.csv')\n",
    "qualifying = pd.read_csv(db_dir + r'/data/qualifying.csv')\n",
    "lap_times = pd.read_csv(db_dir + r'/data/lap_times.csv')\n",
    "lap_times = lap_times.rename(columns={\n",
    "    'time': 'lapTime',\n",
    "    'position': 'lapPosition'})\n",
    "\n",
    "merged_df = pd.merge(races, pit_stops, on='raceId', how='inner')\n",
    "df = pd.merge(merged_df, drivers, on='driverId', how='inner')\n",
    "df = df.drop(columns=['url_x','url_y','number'])\n",
    "\n",
    "# distinct_raceyear_df = df.drop_duplicates(subset='year').sort_values(by='year', ascending=False)\n",
    "df_new_merged = pd.merge(df, results, on=['driverId','raceId'], how='inner')\n",
    "df_new_merged1 = pd.merge(df_new_merged, driver_standings, on=['driverId','raceId'], how='inner')\n",
    "df_new_merged = pd.merge(df_new_merged, circuits, on=['circuitId'], how='inner')\n",
    "# df_new_merged = pd.merge(df_new_merged, qualifying, on=['driverId','raceId'], how='inner')\n",
    "# df_new_merged = pd.merge(df_new_merged, lap_times, on=['driverId','raceId'], how='inner')\n",
    "\n",
    "condition1 = df_new_merged['year'] >= 2000\n",
    "condition2 = df_new_merged['year'] <= 2023\n",
    "df_new_merged1 = df_new_merged[condition1 & condition2 ] \n",
    "print(df_new_merged1.columns)\n",
    "df_new_merged1.to_csv('all.csv')\n",
    "def convert_new_time_to_seconds_v4(time_str):\n",
    "    if time_str == '\\\\N':\n",
    "        return np.nan\n",
    "    try:\n",
    "        # Split by colon and reverse the list to start with seconds and go backwards to minutes, hours, etc.\n",
    "        time_parts = list(map(float, time_str.split(':')))[::-1]\n",
    "        # Convert parts to seconds: seconds, minutes to seconds, hours to seconds\n",
    "        total_seconds = sum(time_part * (60 ** index) for index, time_part in enumerate(time_parts))\n",
    "        return total_seconds\n",
    "    except ValueError:\n",
    "        return np.nan\n",
    "\n",
    "# Apply the function to the 'new_time' column\n",
    "df_new_merged1['new_time_seconds'] = df_new_merged1['time'].replace('\\+', '', regex=True).apply(convert_new_time_to_seconds_v4)\n",
    "# df_new_merged1[df_new_merged1['raceId']== 948].sort_values(by=['raceId', 'positionOrder'])\n",
    "df_cleaned = df_new_merged1[['raceId','year','round','circuitRef','circuit_type','driverId','grid','position','positionOrder','time','new_time_seconds']]\n",
    "df_cleaned = df_cleaned.drop_duplicates()\n",
    "# df_cleaned['cumulative_time_seconds'] = df_cleaned.groupby(['raceId', 'positionOrder'])['new_time_seconds'].transform(lambda x: x.cumsum())\n",
    "df_cleaned.sort_values(by=['raceId', 'positionOrder'], inplace=True)\n",
    "df_cleaned['cumulative_time_seconds'] = df_cleaned.groupby('raceId')['new_time_seconds'].cumsum()\n",
    "df_cleaned = df_cleaned[['raceId','year','circuitRef','circuit_type','driverId','grid','cumulative_time_seconds']]\n",
    "\n",
    "df_cleaned[df_cleaned['raceId']== 950].sort_values(by=['raceId','grid'])\n",
    "\n",
    "# df_cleaned = df_cleaned[df_cleaned['circuitRef']== 'monaco']\n",
    "\n",
    "#Drop retired racers\n",
    "df_cleaned = df_cleaned.dropna()"
   ]
  },
  {
   "cell_type": "code",
   "execution_count": 95,
   "metadata": {},
   "outputs": [
    {
     "name": "stdout",
     "output_type": "stream",
     "text": [
      "R-Squared: 0.03139078681270291\n",
      "                               OLS Regression Results                              \n",
      "===================================================================================\n",
      "Dep. Variable:     cumulative_time_seconds   R-squared:                       0.031\n",
      "Model:                                 OLS   Adj. R-squared:                  0.030\n",
      "Method:                      Least Squares   F-statistic:                     29.74\n",
      "Date:                     Mon, 22 Jul 2024   Prob (F-statistic):           6.41e-19\n",
      "Time:                             20:20:18   Log-Likelihood:                -23726.\n",
      "No. Observations:                     2790   AIC:                         4.746e+04\n",
      "Df Residuals:                         2786   BIC:                         4.748e+04\n",
      "Df Model:                                3                                         \n",
      "Covariance Type:                 nonrobust                                         \n",
      "==============================================================================\n",
      "                 coef    std err          t      P>|t|      [0.025      0.975]\n",
      "------------------------------------------------------------------------------\n",
      "Intercept   3.876e+05   1.53e+05      2.537      0.011     8.8e+04    6.87e+05\n",
      "raceId         8.4223      3.580      2.353      0.019       1.403      15.442\n",
      "year        -193.3465     77.483     -2.495      0.013    -345.276     -41.417\n",
      "grid          36.2392      4.080      8.883      0.000      28.240      44.238\n",
      "==============================================================================\n",
      "Omnibus:                     1907.157   Durbin-Watson:                   0.186\n",
      "Prob(Omnibus):                  0.000   Jarque-Bera (JB):            28126.879\n",
      "Skew:                           3.104   Prob(JB):                         0.00\n",
      "Kurtosis:                      17.263   Cond. No.                     1.52e+07\n",
      "==============================================================================\n",
      "\n",
      "Notes:\n",
      "[1] Standard Errors assume that the covariance matrix of the errors is correctly specified.\n",
      "[2] The condition number is large, 1.52e+07. This might indicate that there are\n",
      "strong multicollinearity or other numerical problems.\n"
     ]
    },
    {
     "data": {
      "image/png": "[encoded data removed]",
      "text/plain": [
       "<Figure size 640x480 with 1 Axes>"
      ]
     },
     "metadata": {},
     "output_type": "display_data"
    },
    {
     "data": {
      "image/png": "[encoded data removed]",
      "text/plain": [
       "<Figure size 640x480 with 1 Axes>"
      ]
     },
     "metadata": {},
     "output_type": "display_data"
    }
   ],
   "source": [
    "X = df_cleaned[['raceId','year','driverId','grid']].values\n",
    "y = df_cleaned['cumulative_time_seconds'].values\n",
    "\n",
    "from sklearn.model_selection import train_test_split\n",
    "X_train, X_test, y_train, y_test = train_test_split(X,y,train_size=0.95,random_state=0)\n",
    "\n",
    "'''\n",
    "Fitting data to a regression model requires two arguments, the training X\n",
    "values (independent variables) and the training y values (dependent variables.\n",
    "In general, most fit functions for models follow this format.\n",
    "'''\n",
    "reg = LinearRegression().fit(X_train, y_train)\n",
    "print(\"R-Squared:\", reg.score(X_train, y_train))\n",
    "\n",
    "from statsmodels.formula.api import ols\n",
    "\n",
    "model = ols('cumulative_time_seconds ~ raceId+year+grid',df_cleaned).fit()\n",
    "print(model.summary())\n",
    "\n",
    "#Test for normality\n",
    "predicted_y = reg.predict(X_train)\n",
    "residuals = y_train - predicted_y\n",
    "\n",
    "from scipy.stats import norm\n",
    "mean, std = norm.fit(residuals)\n",
    "plt.hist(residuals, bins=13, edgecolor='black', density=True)\n",
    "xmin, xmax = plt.xlim()\n",
    "x = np.linspace(xmin, xmax, 100)\n",
    "p = norm.pdf(x, mean, std)\n",
    "plt.plot(x, p, color='black')\n",
    "title = \"Fit results: mu = %.2f,  std = %.2f\" % (mean, std)\n",
    "plt.title(title)\n",
    "plt.show()\n",
    "\n",
    "#Test for heteroskacticity\n",
    "#Residuals calculated by definition above.\n",
    "predicted_y = reg.predict(X_train)\n",
    "#Note we can perform element-wise subtraction between arrays like so\n",
    "residuals = y_train - predicted_y\n",
    "import matplotlib.pyplot as plt\n",
    "plt.scatter(predicted_y,residuals,s=2,c='black')\n",
    "plt.hlines(0,min(predicted_y),max(predicted_y),color='red',linestyles='dashed')\n",
    "plt.xlabel(\"Model Prediction\")\n",
    "plt.ylabel(\"Residual\")\n",
    "plt.show()"
   ]
  },
  {
   "cell_type": "markdown",
   "metadata": {},
   "source": [
    "#### Exploration of the data\n",
    "3. Does the data have NULL Values?\n",
    "<br/> From our analysis below, there are no null values\n",
    "<br/>No need to apply MICE"
   ]
  },
  {
   "cell_type": "code",
   "execution_count": 16,
   "metadata": {},
   "outputs": [
    {
     "name": "stdout",
     "output_type": "stream",
     "text": [
      "<class 'pandas.core.frame.DataFrame'>\n",
      "Index: 5978 entries, 481 to 10988\n",
      "Data columns (total 45 columns):\n",
      " #   Column           Non-Null Count  Dtype  \n",
      "---  ------           --------------  -----  \n",
      " 0   raceId           5978 non-null   int64  \n",
      " 1   year             5978 non-null   int64  \n",
      " 2   round            5978 non-null   int64  \n",
      " 3   circuitId        5978 non-null   int64  \n",
      " 4   name             5978 non-null   object \n",
      " 5   date             5978 non-null   object \n",
      " 6   time_x           5978 non-null   object \n",
      " 7   fp1_date         5978 non-null   object \n",
      " 8   fp1_time         5978 non-null   object \n",
      " 9   fp2_date         5978 non-null   object \n",
      " 10  fp2_time         5978 non-null   object \n",
      " 11  fp3_date         5978 non-null   object \n",
      " 12  fp3_time         5978 non-null   object \n",
      " 13  quali_date       5978 non-null   object \n",
      " 14  quali_time       5978 non-null   object \n",
      " 15  sprint_date      5978 non-null   object \n",
      " 16  sprint_time      5978 non-null   object \n",
      " 17  driverId         5978 non-null   int64  \n",
      " 18  stop             5978 non-null   int64  \n",
      " 19  lap              5978 non-null   int64  \n",
      " 20  time_y           5978 non-null   object \n",
      " 21  duration         5978 non-null   object \n",
      " 22  milliseconds_x   5978 non-null   int64  \n",
      " 23  driverRef        5978 non-null   object \n",
      " 24  code             5978 non-null   object \n",
      " 25  forename         5978 non-null   object \n",
      " 26  surname          5978 non-null   object \n",
      " 27  dob              5978 non-null   object \n",
      " 28  nationality      5978 non-null   object \n",
      " 29  resultId         5978 non-null   int64  \n",
      " 30  constructorId    5978 non-null   int64  \n",
      " 31  number           5978 non-null   object \n",
      " 32  grid             5978 non-null   int64  \n",
      " 33  position         5978 non-null   object \n",
      " 34  positionText     5978 non-null   object \n",
      " 35  positionOrder    5978 non-null   int64  \n",
      " 36  points           5978 non-null   float64\n",
      " 37  laps             5978 non-null   int64  \n",
      " 38  time             5978 non-null   object \n",
      " 39  milliseconds_y   5978 non-null   object \n",
      " 40  fastestLap       5978 non-null   object \n",
      " 41  rank             5978 non-null   object \n",
      " 42  fastestLapTime   5978 non-null   object \n",
      " 43  fastestLapSpeed  5978 non-null   object \n",
      " 44  statusId         5978 non-null   int64  \n",
      "dtypes: float64(1), int64(14), object(30)\n",
      "memory usage: 2.1+ MB\n"
     ]
    }
   ],
   "source": [
    "df_new_merged1.info()"
   ]
  },
  {
   "cell_type": "markdown",
   "metadata": {},
   "source": [
    "4. Create a prediction Value\n",
    "<br/> In this case we are going to be using the column position_x (Final Race Position) == 1 as the race winner"
   ]
  },
  {
   "cell_type": "code",
   "execution_count": 17,
   "metadata": {},
   "outputs": [
    {
     "name": "stderr",
     "output_type": "stream",
     "text": [
      "/var/folders/mr/l3x9p9wd385gcyns864s9f2w0000gn/T/ipykernel_38562/3492287986.py:2: SettingWithCopyWarning: \n",
      "A value is trying to be set on a copy of a slice from a DataFrame.\n",
      "Try using .loc[row_indexer,col_indexer] = value instead\n",
      "\n",
      "See the caveats in the documentation: https://pandas.pydata.org/pandas-docs/stable/user_guide/indexing.html#returning-a-view-versus-a-copy\n",
      "  df_new_merged1['RaceWinner'] = np.where(df_new_merged1['position'] == '1', 1, 0)\n",
      "/var/folders/mr/l3x9p9wd385gcyns864s9f2w0000gn/T/ipykernel_38562/3492287986.py:20: SettingWithCopyWarning: \n",
      "A value is trying to be set on a copy of a slice from a DataFrame.\n",
      "Try using .loc[row_indexer,col_indexer] = value instead\n",
      "\n",
      "See the caveats in the documentation: https://pandas.pydata.org/pandas-docs/stable/user_guide/indexing.html#returning-a-view-versus-a-copy\n",
      "  new_df['fastestLapTime_seconds'] = new_df['fastestLapTime'].apply(time_to_seconds)\n"
     ]
    },
    {
     "data": {
      "text/html": [
       "<div>\n",
       "<style scoped>\n",
       "    .dataframe tbody tr th:only-of-type {\n",
       "        vertical-align: middle;\n",
       "    }\n",
       "\n",
       "    .dataframe tbody tr th {\n",
       "        vertical-align: top;\n",
       "    }\n",
       "\n",
       "    .dataframe thead th {\n",
       "        text-align: right;\n",
       "    }\n",
       "</style>\n",
       "<table border=\"1\" class=\"dataframe\">\n",
       "  <thead>\n",
       "    <tr style=\"text-align: right;\">\n",
       "      <th></th>\n",
       "      <th>raceId</th>\n",
       "      <th>year</th>\n",
       "      <th>round</th>\n",
       "      <th>circuitId</th>\n",
       "      <th>driverId</th>\n",
       "      <th>grid</th>\n",
       "      <th>positionOrder</th>\n",
       "      <th>position</th>\n",
       "      <th>points</th>\n",
       "      <th>RaceWinner</th>\n",
       "      <th>rank</th>\n",
       "      <th>laps</th>\n",
       "      <th>fastestLapTime_seconds</th>\n",
       "    </tr>\n",
       "  </thead>\n",
       "  <tbody>\n",
       "    <tr>\n",
       "      <th>481</th>\n",
       "      <td>948</td>\n",
       "      <td>2016</td>\n",
       "      <td>1</td>\n",
       "      <td>1</td>\n",
       "      <td>4</td>\n",
       "      <td>11</td>\n",
       "      <td>21</td>\n",
       "      <td>\\N</td>\n",
       "      <td>0.0</td>\n",
       "      <td>0</td>\n",
       "      <td>11</td>\n",
       "      <td>16</td>\n",
       "      <td>92.553</td>\n",
       "    </tr>\n",
       "    <tr>\n",
       "      <th>482</th>\n",
       "      <td>950</td>\n",
       "      <td>2016</td>\n",
       "      <td>3</td>\n",
       "      <td>17</td>\n",
       "      <td>4</td>\n",
       "      <td>11</td>\n",
       "      <td>12</td>\n",
       "      <td>12</td>\n",
       "      <td>0.0</td>\n",
       "      <td>0</td>\n",
       "      <td>19</td>\n",
       "      <td>56</td>\n",
       "      <td>102.226</td>\n",
       "    </tr>\n",
       "    <tr>\n",
       "      <th>483</th>\n",
       "      <td>950</td>\n",
       "      <td>2016</td>\n",
       "      <td>3</td>\n",
       "      <td>17</td>\n",
       "      <td>4</td>\n",
       "      <td>11</td>\n",
       "      <td>12</td>\n",
       "      <td>12</td>\n",
       "      <td>0.0</td>\n",
       "      <td>0</td>\n",
       "      <td>19</td>\n",
       "      <td>56</td>\n",
       "      <td>102.226</td>\n",
       "    </tr>\n",
       "    <tr>\n",
       "      <th>484</th>\n",
       "      <td>951</td>\n",
       "      <td>2016</td>\n",
       "      <td>4</td>\n",
       "      <td>71</td>\n",
       "      <td>4</td>\n",
       "      <td>14</td>\n",
       "      <td>6</td>\n",
       "      <td>6</td>\n",
       "      <td>8.0</td>\n",
       "      <td>0</td>\n",
       "      <td>5</td>\n",
       "      <td>52</td>\n",
       "      <td>100.347</td>\n",
       "    </tr>\n",
       "    <tr>\n",
       "      <th>485</th>\n",
       "      <td>952</td>\n",
       "      <td>2016</td>\n",
       "      <td>5</td>\n",
       "      <td>4</td>\n",
       "      <td>4</td>\n",
       "      <td>10</td>\n",
       "      <td>19</td>\n",
       "      <td>\\N</td>\n",
       "      <td>0.0</td>\n",
       "      <td>0</td>\n",
       "      <td>13</td>\n",
       "      <td>45</td>\n",
       "      <td>89.750</td>\n",
       "    </tr>\n",
       "  </tbody>\n",
       "</table>\n",
       "</div>"
      ],
      "text/plain": [
       "     raceId  year  round  circuitId  driverId  grid  positionOrder position  \\\n",
       "481     948  2016      1          1         4    11             21       \\N   \n",
       "482     950  2016      3         17         4    11             12       12   \n",
       "483     950  2016      3         17         4    11             12       12   \n",
       "484     951  2016      4         71         4    14              6        6   \n",
       "485     952  2016      5          4         4    10             19       \\N   \n",
       "\n",
       "     points  RaceWinner rank  laps  fastestLapTime_seconds  \n",
       "481     0.0           0   11    16                  92.553  \n",
       "482     0.0           0   19    56                 102.226  \n",
       "483     0.0           0   19    56                 102.226  \n",
       "484     8.0           0    5    52                 100.347  \n",
       "485     0.0           0   13    45                  89.750  "
      ]
     },
     "execution_count": 17,
     "metadata": {},
     "output_type": "execute_result"
    }
   ],
   "source": [
    "import numpy as np\n",
    "df_new_merged1['RaceWinner'] = np.where(df_new_merged1['position'] == '1', 1, 0)\n",
    "df_new_merged1[df_new_merged1['RaceWinner']==1].head()\n",
    "relevant_columns = ['raceId', 'year', 'round', 'circuitId', 'driverId', 'grid', 'positionOrder','position', 'fastestLapTime', 'points', 'RaceWinner','rank','laps']\n",
    "# relevant_columns = ['raceId', 'grid', 'positionOrder', 'fastestLapTime', 'points','RaceWinner']\n",
    "new_df = df_new_merged1[relevant_columns]\n",
    "def time_to_seconds(time_str):\n",
    "    # Check if the input is a string and contains the expected ':' character\n",
    "    if pd.isna(time_str) or ':' not in time_str:\n",
    "        return None  # Return None for missing or malformed data\n",
    "    \n",
    "    # Try to split the time string and convert to seconds\n",
    "    try:\n",
    "        minutes, seconds = time_str.split(':')\n",
    "        return int(minutes) * 60 + float(seconds)\n",
    "    except ValueError:\n",
    "        return None\n",
    "\n",
    "# Apply the function to the column\n",
    "new_df['fastestLapTime_seconds'] = new_df['fastestLapTime'].apply(time_to_seconds)\n",
    "new_df = new_df.drop(columns=['fastestLapTime'])\n",
    "new_df.head()"
   ]
  },
  {
   "cell_type": "markdown",
   "metadata": {},
   "source": [
    "5. Treating for NaN:\n",
    "<br/> After converting fastestLapTime from MM:SS to SS we noticed that some of the volumes is NaN.\n",
    "<br/> To solve for this, we converted we turn NaN into 0\n",
    "<br/> When researching more why this may happen, driver may have not finished the race. This meaning 0 means they did not finish the race."
   ]
  },
  {
   "cell_type": "code",
   "execution_count": 23,
   "metadata": {},
   "outputs": [],
   "source": [
    "new_df['fastestLapTime_seconds'] = new_df['fastestLapTime_seconds'].fillna(0)\n",
    "new_df.isna().any()\n",
    "df_cleaned = new_df\n",
    "# df_cleaned = new_df.dropna()\n",
    "# df_cleaned.isna().any()"
   ]
  },
  {
   "cell_type": "markdown",
   "metadata": {},
   "source": [
    "5. Which features have significance to predict race outcome?\n",
    "<br/> Linear Regression - The grid,positionOrder,points_y,wins look to have the lowest P value\n"
   ]
  },
  {
   "cell_type": "code",
   "execution_count": 29,
   "metadata": {},
   "outputs": [
    {
     "name": "stdout",
     "output_type": "stream",
     "text": [
      "R-Squared: 1.0\n",
      "                            OLS Regression Results                            \n",
      "==============================================================================\n",
      "Dep. Variable:             RaceWinner   R-squared:                       0.545\n",
      "Model:                            OLS   Adj. R-squared:                  0.543\n",
      "Method:                 Least Squares   F-statistic:                     222.6\n",
      "Date:                Sat, 20 Jul 2024   Prob (F-statistic):               0.00\n",
      "Time:                        09:51:08   Log-Likelihood:                 2940.6\n",
      "No. Observations:                5978   AIC:                            -5815.\n",
      "Df Residuals:                    5945   BIC:                            -5594.\n",
      "Df Model:                          32                                         \n",
      "Covariance Type:            nonrobust                                         \n",
      "==========================================================================================\n",
      "                             coef    std err          t      P>|t|      [0.025      0.975]\n",
      "------------------------------------------------------------------------------------------\n",
      "Intercept                -22.3755     39.677     -0.564      0.573    -100.156      55.405\n",
      "rank[T.1]                 -0.0802      0.049     -1.621      0.105      -0.177       0.017\n",
      "rank[T.10]                -0.0221      0.049     -0.446      0.656      -0.119       0.075\n",
      "rank[T.11]                -0.0256      0.050     -0.517      0.605      -0.123       0.071\n",
      "rank[T.12]                -0.0041      0.050     -0.083      0.934      -0.101       0.093\n",
      "rank[T.13]                -0.0107      0.049     -0.216      0.829      -0.107       0.086\n",
      "rank[T.14]                -0.0141      0.050     -0.284      0.776      -0.111       0.083\n",
      "rank[T.15]                -0.0074      0.049     -0.149      0.882      -0.104       0.090\n",
      "rank[T.16]                -0.0357      0.049     -0.723      0.470      -0.132       0.061\n",
      "rank[T.17]                -0.0473      0.049     -0.964      0.335      -0.144       0.049\n",
      "rank[T.18]                -0.0650      0.049     -1.320      0.187      -0.162       0.032\n",
      "rank[T.19]                -0.0927      0.049     -1.873      0.061      -0.190       0.004\n",
      "rank[T.2]                 -0.0570      0.050     -1.151      0.250      -0.154       0.040\n",
      "rank[T.20]                -0.1349      0.050     -2.719      0.007      -0.232      -0.038\n",
      "rank[T.21]                -0.1329      0.057     -2.334      0.020      -0.245      -0.021\n",
      "rank[T.22]                -0.1759      0.070     -2.520      0.012      -0.313      -0.039\n",
      "rank[T.3]                 -0.1403      0.050     -2.832      0.005      -0.237      -0.043\n",
      "rank[T.4]                 -0.1041      0.050     -2.101      0.036      -0.201      -0.007\n",
      "rank[T.5]                 -0.0975      0.049     -1.973      0.049      -0.194      -0.001\n",
      "rank[T.6]                 -0.0672      0.049     -1.359      0.174      -0.164       0.030\n",
      "rank[T.7]                 -0.0587      0.049     -1.186      0.236      -0.156       0.038\n",
      "rank[T.8]                 -0.0470      0.049     -0.950      0.342      -0.144       0.050\n",
      "rank[T.9]                 -0.0401      0.049     -0.809      0.418      -0.137       0.057\n",
      "raceId                    -0.0004      0.001     -0.470      0.639      -0.002       0.001\n",
      "year                       0.0110      0.020      0.547      0.585      -0.028       0.050\n",
      "round                      0.0003      0.001      0.287      0.774      -0.002       0.002\n",
      "circuitId               7.067e-05   7.49e-05      0.943      0.346   -7.62e-05       0.000\n",
      "driverId               -1.643e-05   5.96e-06     -2.755      0.006   -2.81e-05   -4.74e-06\n",
      "grid                       0.0019      0.000      4.340      0.000       0.001       0.003\n",
      "positionOrder              0.0301      0.001     35.409      0.000       0.028       0.032\n",
      "points                     0.0413      0.001     65.156      0.000       0.040       0.043\n",
      "fastestLapTime_seconds     0.0010      0.000      4.439      0.000       0.001       0.001\n",
      "laps                       0.0016      0.000      6.222      0.000       0.001       0.002\n",
      "==============================================================================\n",
      "Omnibus:                      690.445   Durbin-Watson:                   0.878\n",
      "Prob(Omnibus):                  0.000   Jarque-Bera (JB):             1636.629\n",
      "Skew:                           0.682   Prob(JB):                         0.00\n",
      "Kurtosis:                       5.171   Cond. No.                     4.89e+07\n",
      "==============================================================================\n",
      "\n",
      "Notes:\n",
      "[1] Standard Errors assume that the covariance matrix of the errors is correctly specified.\n",
      "[2] The condition number is large, 4.89e+07. This might indicate that there are\n",
      "strong multicollinearity or other numerical problems.\n"
     ]
    }
   ],
   "source": [
    "X = df_cleaned[['raceId', 'year', 'round', 'circuitId', 'driverId', 'grid','positionOrder', 'points', 'RaceWinner','fastestLapTime_seconds']].values\n",
    "y = df_cleaned['RaceWinner'].values\n",
    "\n",
    "from sklearn.model_selection import train_test_split\n",
    "X_train, X_test, y_train, y_test = train_test_split(X,y,train_size=0.95,random_state=0)\n",
    "\n",
    "'''\n",
    "Fitting data to a regression model requires two arguments, the training X\n",
    "values (independent variables) and the training y values (dependent variables.\n",
    "In general, most fit functions for models follow this format.\n",
    "'''\n",
    "reg = LinearRegression().fit(X_train, y_train)\n",
    "print(\"R-Squared:\", reg.score(X_train, y_train))\n",
    "\n",
    "from statsmodels.formula.api import ols\n",
    "\n",
    "model = ols('RaceWinner ~ raceId+year+round+circuitId+driverId+grid+positionOrder+points+fastestLapTime_seconds+points+rank+laps',new_df).fit()\n",
    "print(model.summary())"
   ]
  },
  {
   "cell_type": "markdown",
   "metadata": {},
   "source": [
    "6. Test for heteroskacticity"
   ]
  },
  {
   "cell_type": "code",
   "execution_count": 9,
   "metadata": {},
   "outputs": [
    {
     "data": {
      "image/png": "[encoded data removed]",
      "text/plain": [
       "<Figure size 640x480 with 1 Axes>"
      ]
     },
     "metadata": {},
     "output_type": "display_data"
    }
   ],
   "source": [
    "#Residuals calculated by definition above.\n",
    "predicted_y = reg.predict(X_train)\n",
    "#Note we can perform element-wise subtraction between arrays like so\n",
    "residuals = y_train - predicted_y\n",
    "\n",
    "import matplotlib.pyplot as plt\n",
    "plt.scatter(predicted_y,residuals,s=2,c='black')\n",
    "\n",
    "#This line adds the dashed horizontal line\n",
    "plt.hlines(0,min(predicted_y),max(predicted_y),color='red',linestyles='dashed')\n",
    "\n",
    "plt.xlabel(\"Model Prediction\")\n",
    "plt.ylabel(\"Residual\")\n",
    "plt.show()"
   ]
  },
  {
   "cell_type": "markdown",
   "metadata": {},
   "source": [
    "6. Test for normality"
   ]
  },
  {
   "cell_type": "code",
   "execution_count": 10,
   "metadata": {},
   "outputs": [
    {
     "data": {
      "image/png": "[encoded data removed]",
      "text/plain": [
       "<Figure size 640x480 with 1 Axes>"
      ]
     },
     "metadata": {},
     "output_type": "display_data"
    }
   ],
   "source": [
    "from scipy.stats import norm\n",
    "\n",
    "# Fit a normal distribution to the data:\n",
    "mean, std = norm.fit(residuals)\n",
    "\n",
    "# Plot the histogram.\n",
    "plt.hist(residuals, bins=13, edgecolor='black', density=True)\n",
    "\n",
    "# Generate a PDF based on the fitted distribution\n",
    "xmin, xmax = plt.xlim()\n",
    "x = np.linspace(xmin, xmax, 100)\n",
    "p = norm.pdf(x, mean, std)\n",
    "plt.plot(x, p, color='black')\n",
    "title = \"Fit results: mu = %.2f,  std = %.2f\" % (mean, std)\n",
    "plt.title(title)\n",
    "\n",
    "plt.show()"
   ]
  },
  {
   "cell_type": "code",
   "execution_count": null,
   "metadata": {},
   "outputs": [],
   "source": [
    "import numpy as np\n",
    "import matplotlib.pyplot as plt\n",
    "\n",
    "# Simulating some left-skewed data\n",
    "data = np.random.exponential(scale=1, size=1000) - 1.5\n",
    "\n",
    "# Step 1: Adjust data if there are negative or zero values\n",
    "data_min = data.min()\n",
    "if data_min <= 0:\n",
    "    data_adjusted = data + (abs(data_min) + 1)\n",
    "else:\n",
    "    data_adjusted = data\n",
    "\n",
    "# Step 2: Apply log transformation\n",
    "data_log_transformed = np.log(data_adjusted)\n",
    "\n",
    "# Step 3: Plotting the transformed data\n",
    "plt.figure(figsize=(10, 6))\n",
    "plt.hist(data_log_transformed, bins=30, color='blue', alpha=0.7)\n",
    "plt.title('Histogram of Log Transformed Data')\n",
    "plt.xlabel('Value')\n",
    "plt.ylabel('Frequency')\n",
    "plt.grid(True)\n",
    "plt.show()"
   ]
  },
  {
   "cell_type": "markdown",
   "metadata": {},
   "source": [
    "Pagan Test to further test the heteroskacticity"
   ]
  },
  {
   "cell_type": "code",
   "execution_count": 26,
   "metadata": {},
   "outputs": [
    {
     "name": "stdout",
     "output_type": "stream",
     "text": [
      "{'LM Statistic': 4506.929957615278, 'LM-Test p-value': 0.0, 'F-Statistic': 569.1796155612536, 'F-Test p-value': 0.0}\n"
     ]
    }
   ],
   "source": [
    "#Import the relevant libraries and train the model\n",
    "from statsmodels.formula.api import ols\n",
    "from statsmodels.stats.diagnostic import het_breuschpagan\n",
    "\n",
    "results = ols('RaceWinner ~ raceId+year+round+circuitId+driverId+grid+positionOrder+fastestLapTime_seconds+points+rank+laps',df_cleaned).fit()\n",
    "#Perform the Breuch-Pagan Test by running this line\n",
    "bp = het_breuschpagan(results.resid,results.model.exog)\n",
    "measures = ('LM Statistic', 'LM-Test p-value', 'F-Statistic', 'F-Test p-value')\n",
    "print(dict(zip(measures,bp)))"
   ]
  },
  {
   "cell_type": "code",
   "execution_count": 27,
   "metadata": {},
   "outputs": [
    {
     "name": "stdout",
     "output_type": "stream",
     "text": [
      "R-Squared on Test Data: 1.0\n",
      "Mean Squared Error on Test Data: 3.7079585429789036e-30\n"
     ]
    }
   ],
   "source": [
    "\n",
    "from sklearn.linear_model import LinearRegression\n",
    "from sklearn.metrics import mean_squared_error, r2_score\n",
    "# Predictions on the test set\n",
    "y_pred_test = reg.predict(X_test)\n",
    "\n",
    "# Evaluating the model on the test data\n",
    "r_squared_test = r2_score(y_test, y_pred_test)\n",
    "mse_test = mean_squared_error(y_test, y_pred_test)\n",
    "\n",
    "print(\"R-Squared on Test Data:\", r_squared_test)\n",
    "print(\"Mean Squared Error on Test Data:\", mse_test)"
   ]
  },
  {
   "cell_type": "code",
   "execution_count": 44,
   "metadata": {},
   "outputs": [],
   "source": [
    "condition11 = df_new_merged['year'] == 2024 \n",
    "condition12 = df_new_merged['round']  == 10\n",
    "to_predict = df_new_merged[condition11 & condition12]\n",
    "relevant_columns = ['raceId', 'year', 'round', 'circuitId', 'driverId', 'grid', 'positionOrder', 'points','rank','laps','fastestLapTime']\n",
    "# relevant_columns = ['raceId', 'grid', 'positionOrder', 'fastestLapTime', 'points','RaceWinner']\n",
    "to_predict = to_predict[relevant_columns]\n",
    "to_predict['fastestLapTime_seconds'] = to_predict['fastestLapTime'].apply(time_to_seconds)\n",
    "to_predict = to_predict.drop(columns=['fastestLapTime'])\n",
    "to_predict.to_csv('to_predict.csv')"
   ]
  },
  {
   "cell_type": "code",
   "execution_count": 45,
   "metadata": {},
   "outputs": [],
   "source": [
    "# Add a constant for prediction with statsmodels\n",
    "features_sm = sm.add_constant(to_predict)\n",
    "\n",
    "# Prediction using the built model\n",
    "predict_final_race_outcome = results.predict(features_sm)\n",
    "predict_final_race_outcome.to_csv('predict.csv')"
   ]
  },
  {
   "cell_type": "markdown",
   "metadata": {},
   "source": [
    "Chow Test\n",
    "\n",
    "Purpose:\n",
    "The Chow test is used to determine whether there are structural breaks or differences between two or more groups in regression analysis. It tests whether the coefficients in two or more regressions on different data sets are equal.\n",
    "\n",
    "When to Use:\n",
    "\n",
    "\t•\tWhen you want to test if there is a significant difference in regression coefficients between two different groups (e.g., before and after an event, or between different demographic groups).\n",
    "\t•\tWhen you suspect that the relationship between the dependent and independent variables may differ between groups and want to formally test this hypothesis.\n",
    "    \n",
    "Wald Test\n",
    "\n",
    "Purpose:\n",
    "The Wald test is used to test the significance of individual coefficients or sets of coefficients in a regression model. It tests whether the coefficients of the independent variables are significantly different from zero (or another specified value).\n",
    "\n",
    "When to Use:\n",
    "\n",
    "\t•\tWhen you want to test the overall significance of one or more coefficients in a regression model.\n",
    "\t•\tWhen you want to test specific hypotheses about the coefficients, such as whether they are equal to each other or to some specified value.\n"
   ]
  }
 ],
 "metadata": {
  "kernelspec": {
   "display_name": "base",
   "language": "python",
   "name": "python3"
  },
  "language_info": {
   "codemirror_mode": {
    "name": "ipython",
    "version": 3
   },
   "file_extension": ".py",
   "mimetype": "text/x-python",
   "name": "python",
   "nbconvert_exporter": "python",
   "pygments_lexer": "ipython3",
   "version": "3.11.7"
  }
 },
 "nbformat": 4,
 "nbformat_minor": 2
}
