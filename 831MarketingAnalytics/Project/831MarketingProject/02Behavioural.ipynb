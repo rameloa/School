{
 "cells": [
  {
   "cell_type": "markdown",
   "metadata": {},
   "source": []
  },
  {
   "cell_type": "markdown",
   "metadata": {},
   "source": [
    "Team Gordon\n",
    "\n",
    "Student Name\tStudent Number\n",
    " Alisha Sahota\t20497348\n",
    " Anthony Ramelo\t20499391\n",
    " Chris Wu\t10182394\n",
    " Elizabeth Zhang\t20161231\n",
    " Emily Zhao\t10096273\n",
    " Sam Hossain\t20466500\n"
   ]
  },
  {
   "cell_type": "code",
   "execution_count": 5,
   "metadata": {},
   "outputs": [],
   "source": [
    "import pandas as pd\n",
    "\n",
    "# Load the uploaded Excel file to explore its structure and content\n",
    "file_path = 'Data 3 - October, 2024.xlsx'\n",
    "\n",
    "# Load the data from the specified sheets\n",
    "engagement_data = pd.read_excel(file_path, sheet_name='Monthly Wellness and Engagement')\n",
    "goals_data = pd.read_excel(file_path, sheet_name='Goals_and_plans_ALLDATA_202410')\n",
    "\n",
    "engagement_datacleaned = engagement_data[['loanid','month','quiz_answer_count','mood_answer_count','inspiration_answer_count','self_assessment_count','activities_count']]\n"
   ]
  }
 ],
 "metadata": {
  "kernelspec": {
   "display_name": "base",
   "language": "python",
   "name": "python3"
  },
  "language_info": {
   "codemirror_mode": {
    "name": "ipython",
    "version": 3
   },
   "file_extension": ".py",
   "mimetype": "text/x-python",
   "name": "python",
   "nbconvert_exporter": "python",
   "pygments_lexer": "ipython3",
   "version": "3.11.7"
  }
 },
 "nbformat": 4,
 "nbformat_minor": 2
}
